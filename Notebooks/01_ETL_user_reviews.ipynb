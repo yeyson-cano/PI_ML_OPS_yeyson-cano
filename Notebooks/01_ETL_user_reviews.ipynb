{
 "cells": [
  {
   "cell_type": "markdown",
   "metadata": {},
   "source": [
    "# Notebook ETL_user_reviews\n",
    "\n",
    "Este notebook tiene como objetivo realizar las tareas de Extracción, Transformación y Carga (ETL) de los datos del archivo user_reviews.json.gz."
   ]
  },
  {
   "cell_type": "markdown",
   "metadata": {},
   "source": [
    "## 1. Importamos librerías"
   ]
  },
  {
   "cell_type": "code",
   "execution_count": 1,
   "metadata": {},
   "outputs": [
    {
     "name": "stderr",
     "output_type": "stream",
     "text": [
      "[nltk_data] Downloading package vader_lexicon to\n",
      "[nltk_data]     C:\\Users\\User\\AppData\\Roaming\\nltk_data...\n",
      "[nltk_data]   Package vader_lexicon is already up-to-date!\n",
      "[nltk_data] Downloading package punkt to\n",
      "[nltk_data]     C:\\Users\\User\\AppData\\Roaming\\nltk_data...\n",
      "[nltk_data]   Package punkt is already up-to-date!\n",
      "[nltk_data] Downloading package stopwords to\n",
      "[nltk_data]     C:\\Users\\User\\AppData\\Roaming\\nltk_data...\n",
      "[nltk_data]   Package stopwords is already up-to-date!\n",
      "[nltk_data] Downloading package wordnet to\n",
      "[nltk_data]     C:\\Users\\User\\AppData\\Roaming\\nltk_data...\n",
      "[nltk_data]   Package wordnet is already up-to-date!\n"
     ]
    }
   ],
   "source": [
    "# Importamos pandas para la manipulación y análisis de datos tabulares\n",
    "import pandas as pd\n",
    "\n",
    "# Importamos numpy para operaciones numéricas eficientes y manipulación de matrices\n",
    "import numpy as np\n",
    "\n",
    "# Importamos gzip para trabajar con archivos comprimidos en formato gzip\n",
    "import gzip\n",
    "\n",
    "# Importamos json para trabajar con datos en formato JSON\n",
    "import json\n",
    "\n",
    "# Importamos ast (Abstract Syntax Trees) para análisis sintáctico y evaluación de expresiones Python\n",
    "import ast\n",
    "\n",
    "# Importamos os para interactuar con el sistema operativo y manipular archivos y directorios\n",
    "import os\n",
    "\n",
    "# Importamos langdetect para detectar automáticamente el idioma de los textos\n",
    "from langdetect import detect\n",
    "\n",
    "# Importamos la biblioteca re para el manejo de expresiones regulares\n",
    "import re\n",
    "\n",
    "# Importamos NLTK para procesamiento de lenguaje natural\n",
    "import nltk\n",
    "from nltk.corpus import stopwords\n",
    "from nltk.tokenize import word_tokenize\n",
    "from nltk.stem import WordNetLemmatizer\n",
    "from nltk.sentiment.vader import SentimentIntensityAnalyzer\n",
    "\n",
    "# Descargamos los recursos necesarios de NLTK\n",
    "nltk.download('vader_lexicon')\n",
    "nltk.download('punkt')\n",
    "nltk.download('stopwords')\n",
    "nltk.download('wordnet')\n",
    "\n",
    "# %load_ext autoreload y %autoreload 2 se utilizan para recargar automáticamente los módulos importados\n",
    "# Esto es útil cuando estamos desarrollando y queremos que los cambios realizados en un módulo se reflejen automáticamente\n",
    "%load_ext autoreload\n",
    "%autoreload 2\n",
    "\n",
    "# Importamos warnings para controlar las advertencias que pueden surgir durante la ejecución del código\n",
    "import warnings\n",
    "warnings.filterwarnings(\"ignore\")  # Ignoramos las advertencias para mantener el flujo de trabajo limpio\n"
   ]
  },
  {
   "cell_type": "markdown",
   "metadata": {},
   "source": [
    "Ahora continuamos con los pasos del proceso ETL."
   ]
  },
  {
   "cell_type": "markdown",
   "metadata": {},
   "source": [
    "## 2. Extracción (carga) de los conjuntos de datos"
   ]
  },
  {
   "cell_type": "markdown",
   "metadata": {},
   "source": [
    "En esta etapa del proceso ETL, se realiza la extracción de datos desde el archivo comprimido en formato *gzip* llamado **user_reviews.json.gz**. Este archivo contiene reseñas de usuarios sobre diferentes juegos en la plataforma Steam.\n",
    "\n",
    "Archivo origen: **user_reviews.json.gz** (Ubicado en *Data\\Raw\\user_reviews.json.gz*)"
   ]
  },
  {
   "cell_type": "code",
   "execution_count": 2,
   "metadata": {},
   "outputs": [],
   "source": [
    "# Ruta al archivo gzip comprimido\n",
    "ruta_review = '../Data/Raw/user_reviews.json.gz'\n",
    "\n",
    "# Lista para almacenar las filas de datos descomprimidos\n",
    "filas_review = []\n",
    "\n",
    "# Se lee cada línea del archivo gzip y se descomprime\n",
    "with gzip.open(ruta_review, 'rt', encoding='utf-8') as f:\n",
    "    for line in f.readlines():\n",
    "        # Se utiliza ast.literal_eval para evaluar la cadena como una expresión Python segura\n",
    "        # Esto convierte la cadena JSON en un diccionario Python\n",
    "        filas_review.append(ast.literal_eval(line))\n",
    "\n",
    "# Se convierte la lista de diccionarios en un DataFrame de pandas\n",
    "df_reviews = pd.DataFrame(filas_review)\n"
   ]
  },
  {
   "cell_type": "markdown",
   "metadata": {},
   "source": [
    "## 3. Explorar el conjunto de datos"
   ]
  },
  {
   "cell_type": "markdown",
   "metadata": {},
   "source": [
    "En la sección de \"Exploración del conjunto de datos\" de las reseñas de usuarios (user_reviews), se inicia con una visualización de las primeras filas del DataFrame mediante el método head(), lo que proporciona una vista previa de los datos y ayuda a entender su estructura y contenido inicial. Posteriormente, se imprime información general del DataFrame, utilizando el método info(), que muestra detalles como el número de entradas no nulas por columna, el tipo de datos y la memoria utilizada. Esta exploración inicial permite obtener una visión panorámica de la composición y la calidad de los datos, lo que facilita la identificación de posibles áreas de interés y la planificación de pasos adicionales de preprocesamiento y análisis."
   ]
  },
  {
   "cell_type": "code",
   "execution_count": 3,
   "metadata": {},
   "outputs": [
    {
     "data": {
      "text/html": [
       "<div>\n",
       "<style scoped>\n",
       "    .dataframe tbody tr th:only-of-type {\n",
       "        vertical-align: middle;\n",
       "    }\n",
       "\n",
       "    .dataframe tbody tr th {\n",
       "        vertical-align: top;\n",
       "    }\n",
       "\n",
       "    .dataframe thead th {\n",
       "        text-align: right;\n",
       "    }\n",
       "</style>\n",
       "<table border=\"1\" class=\"dataframe\">\n",
       "  <thead>\n",
       "    <tr style=\"text-align: right;\">\n",
       "      <th></th>\n",
       "      <th>user_id</th>\n",
       "      <th>user_url</th>\n",
       "      <th>reviews</th>\n",
       "    </tr>\n",
       "  </thead>\n",
       "  <tbody>\n",
       "    <tr>\n",
       "      <th>0</th>\n",
       "      <td>76561197970982479</td>\n",
       "      <td>http://steamcommunity.com/profiles/76561197970...</td>\n",
       "      <td>[{'funny': '', 'posted': 'Posted November 5, 2...</td>\n",
       "    </tr>\n",
       "    <tr>\n",
       "      <th>1</th>\n",
       "      <td>js41637</td>\n",
       "      <td>http://steamcommunity.com/id/js41637</td>\n",
       "      <td>[{'funny': '', 'posted': 'Posted June 24, 2014...</td>\n",
       "    </tr>\n",
       "    <tr>\n",
       "      <th>2</th>\n",
       "      <td>evcentric</td>\n",
       "      <td>http://steamcommunity.com/id/evcentric</td>\n",
       "      <td>[{'funny': '', 'posted': 'Posted February 3.',...</td>\n",
       "    </tr>\n",
       "    <tr>\n",
       "      <th>3</th>\n",
       "      <td>doctr</td>\n",
       "      <td>http://steamcommunity.com/id/doctr</td>\n",
       "      <td>[{'funny': '', 'posted': 'Posted October 14, 2...</td>\n",
       "    </tr>\n",
       "    <tr>\n",
       "      <th>4</th>\n",
       "      <td>maplemage</td>\n",
       "      <td>http://steamcommunity.com/id/maplemage</td>\n",
       "      <td>[{'funny': '3 people found this review funny',...</td>\n",
       "    </tr>\n",
       "  </tbody>\n",
       "</table>\n",
       "</div>"
      ],
      "text/plain": [
       "             user_id                                           user_url  \\\n",
       "0  76561197970982479  http://steamcommunity.com/profiles/76561197970...   \n",
       "1            js41637               http://steamcommunity.com/id/js41637   \n",
       "2          evcentric             http://steamcommunity.com/id/evcentric   \n",
       "3              doctr                 http://steamcommunity.com/id/doctr   \n",
       "4          maplemage             http://steamcommunity.com/id/maplemage   \n",
       "\n",
       "                                             reviews  \n",
       "0  [{'funny': '', 'posted': 'Posted November 5, 2...  \n",
       "1  [{'funny': '', 'posted': 'Posted June 24, 2014...  \n",
       "2  [{'funny': '', 'posted': 'Posted February 3.',...  \n",
       "3  [{'funny': '', 'posted': 'Posted October 14, 2...  \n",
       "4  [{'funny': '3 people found this review funny',...  "
      ]
     },
     "execution_count": 3,
     "metadata": {},
     "output_type": "execute_result"
    }
   ],
   "source": [
    "# Se muestra el DataFrame resultante\n",
    "df_reviews.head()"
   ]
  },
  {
   "cell_type": "code",
   "execution_count": 4,
   "metadata": {},
   "outputs": [
    {
     "name": "stdout",
     "output_type": "stream",
     "text": [
      "<class 'pandas.core.frame.DataFrame'>\n",
      "RangeIndex: 25799 entries, 0 to 25798\n",
      "Data columns (total 3 columns):\n",
      " #   Column    Non-Null Count  Dtype \n",
      "---  ------    --------------  ----- \n",
      " 0   user_id   25799 non-null  object\n",
      " 1   user_url  25799 non-null  object\n",
      " 2   reviews   25799 non-null  object\n",
      "dtypes: object(3)\n",
      "memory usage: 604.8+ KB\n"
     ]
    }
   ],
   "source": [
    "df_reviews.info()"
   ]
  },
  {
   "cell_type": "markdown",
   "metadata": {},
   "source": [
    "Procedemos a desanidar los elementos de la columna \"reviews\""
   ]
  },
  {
   "cell_type": "code",
   "execution_count": 5,
   "metadata": {},
   "outputs": [],
   "source": [
    "# Normalizar la columna 'items' y expandirla en nuevas columnas\n",
    "df_reviews = pd.json_normalize(df_reviews.to_dict('records'), record_path='reviews', meta=['user_id', 'user_url'])\n"
   ]
  },
  {
   "cell_type": "code",
   "execution_count": 6,
   "metadata": {},
   "outputs": [
    {
     "data": {
      "text/html": [
       "<div>\n",
       "<style scoped>\n",
       "    .dataframe tbody tr th:only-of-type {\n",
       "        vertical-align: middle;\n",
       "    }\n",
       "\n",
       "    .dataframe tbody tr th {\n",
       "        vertical-align: top;\n",
       "    }\n",
       "\n",
       "    .dataframe thead th {\n",
       "        text-align: right;\n",
       "    }\n",
       "</style>\n",
       "<table border=\"1\" class=\"dataframe\">\n",
       "  <thead>\n",
       "    <tr style=\"text-align: right;\">\n",
       "      <th></th>\n",
       "      <th>funny</th>\n",
       "      <th>posted</th>\n",
       "      <th>last_edited</th>\n",
       "      <th>item_id</th>\n",
       "      <th>helpful</th>\n",
       "      <th>recommend</th>\n",
       "      <th>review</th>\n",
       "      <th>user_id</th>\n",
       "      <th>user_url</th>\n",
       "    </tr>\n",
       "  </thead>\n",
       "  <tbody>\n",
       "    <tr>\n",
       "      <th>0</th>\n",
       "      <td></td>\n",
       "      <td>Posted November 5, 2011.</td>\n",
       "      <td></td>\n",
       "      <td>1250</td>\n",
       "      <td>No ratings yet</td>\n",
       "      <td>True</td>\n",
       "      <td>Simple yet with great replayability. In my opi...</td>\n",
       "      <td>76561197970982479</td>\n",
       "      <td>http://steamcommunity.com/profiles/76561197970...</td>\n",
       "    </tr>\n",
       "    <tr>\n",
       "      <th>1</th>\n",
       "      <td></td>\n",
       "      <td>Posted July 15, 2011.</td>\n",
       "      <td></td>\n",
       "      <td>22200</td>\n",
       "      <td>No ratings yet</td>\n",
       "      <td>True</td>\n",
       "      <td>It's unique and worth a playthrough.</td>\n",
       "      <td>76561197970982479</td>\n",
       "      <td>http://steamcommunity.com/profiles/76561197970...</td>\n",
       "    </tr>\n",
       "    <tr>\n",
       "      <th>2</th>\n",
       "      <td></td>\n",
       "      <td>Posted April 21, 2011.</td>\n",
       "      <td></td>\n",
       "      <td>43110</td>\n",
       "      <td>No ratings yet</td>\n",
       "      <td>True</td>\n",
       "      <td>Great atmosphere. The gunplay can be a bit chu...</td>\n",
       "      <td>76561197970982479</td>\n",
       "      <td>http://steamcommunity.com/profiles/76561197970...</td>\n",
       "    </tr>\n",
       "    <tr>\n",
       "      <th>3</th>\n",
       "      <td></td>\n",
       "      <td>Posted June 24, 2014.</td>\n",
       "      <td></td>\n",
       "      <td>251610</td>\n",
       "      <td>15 of 20 people (75%) found this review helpful</td>\n",
       "      <td>True</td>\n",
       "      <td>I know what you think when you see this title ...</td>\n",
       "      <td>js41637</td>\n",
       "      <td>http://steamcommunity.com/id/js41637</td>\n",
       "    </tr>\n",
       "    <tr>\n",
       "      <th>4</th>\n",
       "      <td></td>\n",
       "      <td>Posted September 8, 2013.</td>\n",
       "      <td></td>\n",
       "      <td>227300</td>\n",
       "      <td>0 of 1 people (0%) found this review helpful</td>\n",
       "      <td>True</td>\n",
       "      <td>For a simple (it's actually not all that simpl...</td>\n",
       "      <td>js41637</td>\n",
       "      <td>http://steamcommunity.com/id/js41637</td>\n",
       "    </tr>\n",
       "  </tbody>\n",
       "</table>\n",
       "</div>"
      ],
      "text/plain": [
       "  funny                     posted last_edited item_id  \\\n",
       "0         Posted November 5, 2011.                1250   \n",
       "1            Posted July 15, 2011.               22200   \n",
       "2           Posted April 21, 2011.               43110   \n",
       "3            Posted June 24, 2014.              251610   \n",
       "4        Posted September 8, 2013.              227300   \n",
       "\n",
       "                                           helpful  recommend  \\\n",
       "0                                   No ratings yet       True   \n",
       "1                                   No ratings yet       True   \n",
       "2                                   No ratings yet       True   \n",
       "3  15 of 20 people (75%) found this review helpful       True   \n",
       "4     0 of 1 people (0%) found this review helpful       True   \n",
       "\n",
       "                                              review            user_id  \\\n",
       "0  Simple yet with great replayability. In my opi...  76561197970982479   \n",
       "1               It's unique and worth a playthrough.  76561197970982479   \n",
       "2  Great atmosphere. The gunplay can be a bit chu...  76561197970982479   \n",
       "3  I know what you think when you see this title ...            js41637   \n",
       "4  For a simple (it's actually not all that simpl...            js41637   \n",
       "\n",
       "                                            user_url  \n",
       "0  http://steamcommunity.com/profiles/76561197970...  \n",
       "1  http://steamcommunity.com/profiles/76561197970...  \n",
       "2  http://steamcommunity.com/profiles/76561197970...  \n",
       "3               http://steamcommunity.com/id/js41637  \n",
       "4               http://steamcommunity.com/id/js41637  "
      ]
     },
     "execution_count": 6,
     "metadata": {},
     "output_type": "execute_result"
    }
   ],
   "source": [
    "df_reviews.head()"
   ]
  },
  {
   "cell_type": "code",
   "execution_count": 7,
   "metadata": {},
   "outputs": [
    {
     "name": "stdout",
     "output_type": "stream",
     "text": [
      "<class 'pandas.core.frame.DataFrame'>\n",
      "RangeIndex: 59305 entries, 0 to 59304\n",
      "Data columns (total 9 columns):\n",
      " #   Column       Non-Null Count  Dtype \n",
      "---  ------       --------------  ----- \n",
      " 0   funny        59305 non-null  object\n",
      " 1   posted       59305 non-null  object\n",
      " 2   last_edited  59305 non-null  object\n",
      " 3   item_id      59305 non-null  object\n",
      " 4   helpful      59305 non-null  object\n",
      " 5   recommend    59305 non-null  bool  \n",
      " 6   review       59305 non-null  object\n",
      " 7   user_id      59305 non-null  object\n",
      " 8   user_url     59305 non-null  object\n",
      "dtypes: bool(1), object(8)\n",
      "memory usage: 3.7+ MB\n"
     ]
    }
   ],
   "source": [
    "df_reviews.info()"
   ]
  },
  {
   "cell_type": "markdown",
   "metadata": {},
   "source": [
    "Vemos que a pesar de que hay elementros vacíos en el dataset, esto no se refleja en el conteo de no nulos, se deberá proceder a convertir los strings vacíos y otros elementos similares a valores nulos (nan)"
   ]
  },
  {
   "cell_type": "markdown",
   "metadata": {},
   "source": [
    "## 4. Limpiar y preprocesar el conjunto de datos"
   ]
  },
  {
   "cell_type": "markdown",
   "metadata": {},
   "source": [
    "En la etapa de limpieza y preparación de datos, el código proporcionado reemplaza valores vacíos, 'null' y 'None' con NaN en todo el DataFrame de reseñas de usuarios. Esta acción uniformiza la representación de los valores faltantes, facilitando su manejo y análisis subsiguiente."
   ]
  },
  {
   "cell_type": "code",
   "execution_count": 8,
   "metadata": {},
   "outputs": [],
   "source": [
    "# Reemplazar valores vacíos, 'null' y 'None' con NaN en todo el DataFrame\n",
    "df_reviews.replace(['', 'null', 'None'], np.nan, inplace=True)"
   ]
  },
  {
   "cell_type": "code",
   "execution_count": 9,
   "metadata": {},
   "outputs": [
    {
     "name": "stdout",
     "output_type": "stream",
     "text": [
      "<class 'pandas.core.frame.DataFrame'>\n",
      "RangeIndex: 59305 entries, 0 to 59304\n",
      "Data columns (total 9 columns):\n",
      " #   Column       Non-Null Count  Dtype \n",
      "---  ------       --------------  ----- \n",
      " 0   funny        8151 non-null   object\n",
      " 1   posted       59305 non-null  object\n",
      " 2   last_edited  6140 non-null   object\n",
      " 3   item_id      59305 non-null  object\n",
      " 4   helpful      59305 non-null  object\n",
      " 5   recommend    59305 non-null  bool  \n",
      " 6   review       59275 non-null  object\n",
      " 7   user_id      59305 non-null  object\n",
      " 8   user_url     59305 non-null  object\n",
      "dtypes: bool(1), object(8)\n",
      "memory usage: 3.7+ MB\n"
     ]
    }
   ],
   "source": [
    "df_reviews.info()"
   ]
  },
  {
   "cell_type": "markdown",
   "metadata": {},
   "source": [
    "Evaluaremos qué columnas tienen más de un 80% de valores nulos y podrían serun problema para el análisis"
   ]
  },
  {
   "cell_type": "code",
   "execution_count": 10,
   "metadata": {},
   "outputs": [
    {
     "name": "stdout",
     "output_type": "stream",
     "text": [
      "Columnas con más del 80% de valores nulos:\n",
      "funny          86.255796\n",
      "last_edited    89.646741\n",
      "dtype: float64\n"
     ]
    }
   ],
   "source": [
    "# Calcular el porcentaje de valores nulos por columna\n",
    "porcentaje_nulos = df_reviews.isnull().mean() * 100\n",
    "\n",
    "# Filtrar las columnas que tienen un porcentaje de nulos mayor al umbral (80%)\n",
    "columnas_con_nulos = porcentaje_nulos[porcentaje_nulos > 80]\n",
    "\n",
    "# Mostrar las columnas con un alto porcentaje de nulos\n",
    "print(\"Columnas con más del 80% de valores nulos:\")\n",
    "print(columnas_con_nulos)\n"
   ]
  },
  {
   "cell_type": "markdown",
   "metadata": {},
   "source": [
    "Dado que estas columnas no son indespensables para el proyecto, se procederá a su eliminación"
   ]
  },
  {
   "cell_type": "code",
   "execution_count": 11,
   "metadata": {},
   "outputs": [],
   "source": [
    "# Obtener el nombre de las columnas con más del 80% de valores nulos\n",
    "columnas_a_eliminar = columnas_con_nulos.index.tolist()\n",
    "\n",
    "# Eliminar las columnas del DataFrame df_reviews\n",
    "df_reviews = df_reviews.drop(columns=columnas_a_eliminar)\n"
   ]
  },
  {
   "cell_type": "code",
   "execution_count": 12,
   "metadata": {},
   "outputs": [
    {
     "data": {
      "text/html": [
       "<div>\n",
       "<style scoped>\n",
       "    .dataframe tbody tr th:only-of-type {\n",
       "        vertical-align: middle;\n",
       "    }\n",
       "\n",
       "    .dataframe tbody tr th {\n",
       "        vertical-align: top;\n",
       "    }\n",
       "\n",
       "    .dataframe thead th {\n",
       "        text-align: right;\n",
       "    }\n",
       "</style>\n",
       "<table border=\"1\" class=\"dataframe\">\n",
       "  <thead>\n",
       "    <tr style=\"text-align: right;\">\n",
       "      <th></th>\n",
       "      <th>posted</th>\n",
       "      <th>item_id</th>\n",
       "      <th>helpful</th>\n",
       "      <th>recommend</th>\n",
       "      <th>review</th>\n",
       "      <th>user_id</th>\n",
       "      <th>user_url</th>\n",
       "    </tr>\n",
       "  </thead>\n",
       "  <tbody>\n",
       "    <tr>\n",
       "      <th>0</th>\n",
       "      <td>Posted November 5, 2011.</td>\n",
       "      <td>1250</td>\n",
       "      <td>No ratings yet</td>\n",
       "      <td>True</td>\n",
       "      <td>Simple yet with great replayability. In my opi...</td>\n",
       "      <td>76561197970982479</td>\n",
       "      <td>http://steamcommunity.com/profiles/76561197970...</td>\n",
       "    </tr>\n",
       "    <tr>\n",
       "      <th>1</th>\n",
       "      <td>Posted July 15, 2011.</td>\n",
       "      <td>22200</td>\n",
       "      <td>No ratings yet</td>\n",
       "      <td>True</td>\n",
       "      <td>It's unique and worth a playthrough.</td>\n",
       "      <td>76561197970982479</td>\n",
       "      <td>http://steamcommunity.com/profiles/76561197970...</td>\n",
       "    </tr>\n",
       "    <tr>\n",
       "      <th>2</th>\n",
       "      <td>Posted April 21, 2011.</td>\n",
       "      <td>43110</td>\n",
       "      <td>No ratings yet</td>\n",
       "      <td>True</td>\n",
       "      <td>Great atmosphere. The gunplay can be a bit chu...</td>\n",
       "      <td>76561197970982479</td>\n",
       "      <td>http://steamcommunity.com/profiles/76561197970...</td>\n",
       "    </tr>\n",
       "    <tr>\n",
       "      <th>3</th>\n",
       "      <td>Posted June 24, 2014.</td>\n",
       "      <td>251610</td>\n",
       "      <td>15 of 20 people (75%) found this review helpful</td>\n",
       "      <td>True</td>\n",
       "      <td>I know what you think when you see this title ...</td>\n",
       "      <td>js41637</td>\n",
       "      <td>http://steamcommunity.com/id/js41637</td>\n",
       "    </tr>\n",
       "    <tr>\n",
       "      <th>4</th>\n",
       "      <td>Posted September 8, 2013.</td>\n",
       "      <td>227300</td>\n",
       "      <td>0 of 1 people (0%) found this review helpful</td>\n",
       "      <td>True</td>\n",
       "      <td>For a simple (it's actually not all that simpl...</td>\n",
       "      <td>js41637</td>\n",
       "      <td>http://steamcommunity.com/id/js41637</td>\n",
       "    </tr>\n",
       "  </tbody>\n",
       "</table>\n",
       "</div>"
      ],
      "text/plain": [
       "                      posted item_id  \\\n",
       "0   Posted November 5, 2011.    1250   \n",
       "1      Posted July 15, 2011.   22200   \n",
       "2     Posted April 21, 2011.   43110   \n",
       "3      Posted June 24, 2014.  251610   \n",
       "4  Posted September 8, 2013.  227300   \n",
       "\n",
       "                                           helpful  recommend  \\\n",
       "0                                   No ratings yet       True   \n",
       "1                                   No ratings yet       True   \n",
       "2                                   No ratings yet       True   \n",
       "3  15 of 20 people (75%) found this review helpful       True   \n",
       "4     0 of 1 people (0%) found this review helpful       True   \n",
       "\n",
       "                                              review            user_id  \\\n",
       "0  Simple yet with great replayability. In my opi...  76561197970982479   \n",
       "1               It's unique and worth a playthrough.  76561197970982479   \n",
       "2  Great atmosphere. The gunplay can be a bit chu...  76561197970982479   \n",
       "3  I know what you think when you see this title ...            js41637   \n",
       "4  For a simple (it's actually not all that simpl...            js41637   \n",
       "\n",
       "                                            user_url  \n",
       "0  http://steamcommunity.com/profiles/76561197970...  \n",
       "1  http://steamcommunity.com/profiles/76561197970...  \n",
       "2  http://steamcommunity.com/profiles/76561197970...  \n",
       "3               http://steamcommunity.com/id/js41637  \n",
       "4               http://steamcommunity.com/id/js41637  "
      ]
     },
     "execution_count": 12,
     "metadata": {},
     "output_type": "execute_result"
    }
   ],
   "source": [
    "df_reviews.head()"
   ]
  },
  {
   "cell_type": "markdown",
   "metadata": {},
   "source": [
    "También eliminamos otras columnas con información irrelevante para el proyecto"
   ]
  },
  {
   "cell_type": "code",
   "execution_count": 13,
   "metadata": {},
   "outputs": [],
   "source": [
    "# Eliminar las columnas 'helpful' y 'user_url' del DataFrame df_reviews\n",
    "df_reviews = df_reviews.drop(columns=['helpful', 'user_url'])"
   ]
  },
  {
   "cell_type": "code",
   "execution_count": 14,
   "metadata": {},
   "outputs": [
    {
     "data": {
      "text/html": [
       "<div>\n",
       "<style scoped>\n",
       "    .dataframe tbody tr th:only-of-type {\n",
       "        vertical-align: middle;\n",
       "    }\n",
       "\n",
       "    .dataframe tbody tr th {\n",
       "        vertical-align: top;\n",
       "    }\n",
       "\n",
       "    .dataframe thead th {\n",
       "        text-align: right;\n",
       "    }\n",
       "</style>\n",
       "<table border=\"1\" class=\"dataframe\">\n",
       "  <thead>\n",
       "    <tr style=\"text-align: right;\">\n",
       "      <th></th>\n",
       "      <th>posted</th>\n",
       "      <th>item_id</th>\n",
       "      <th>recommend</th>\n",
       "      <th>review</th>\n",
       "      <th>user_id</th>\n",
       "    </tr>\n",
       "  </thead>\n",
       "  <tbody>\n",
       "    <tr>\n",
       "      <th>0</th>\n",
       "      <td>Posted November 5, 2011.</td>\n",
       "      <td>1250</td>\n",
       "      <td>True</td>\n",
       "      <td>Simple yet with great replayability. In my opi...</td>\n",
       "      <td>76561197970982479</td>\n",
       "    </tr>\n",
       "    <tr>\n",
       "      <th>1</th>\n",
       "      <td>Posted July 15, 2011.</td>\n",
       "      <td>22200</td>\n",
       "      <td>True</td>\n",
       "      <td>It's unique and worth a playthrough.</td>\n",
       "      <td>76561197970982479</td>\n",
       "    </tr>\n",
       "    <tr>\n",
       "      <th>2</th>\n",
       "      <td>Posted April 21, 2011.</td>\n",
       "      <td>43110</td>\n",
       "      <td>True</td>\n",
       "      <td>Great atmosphere. The gunplay can be a bit chu...</td>\n",
       "      <td>76561197970982479</td>\n",
       "    </tr>\n",
       "    <tr>\n",
       "      <th>3</th>\n",
       "      <td>Posted June 24, 2014.</td>\n",
       "      <td>251610</td>\n",
       "      <td>True</td>\n",
       "      <td>I know what you think when you see this title ...</td>\n",
       "      <td>js41637</td>\n",
       "    </tr>\n",
       "    <tr>\n",
       "      <th>4</th>\n",
       "      <td>Posted September 8, 2013.</td>\n",
       "      <td>227300</td>\n",
       "      <td>True</td>\n",
       "      <td>For a simple (it's actually not all that simpl...</td>\n",
       "      <td>js41637</td>\n",
       "    </tr>\n",
       "  </tbody>\n",
       "</table>\n",
       "</div>"
      ],
      "text/plain": [
       "                      posted item_id  recommend  \\\n",
       "0   Posted November 5, 2011.    1250       True   \n",
       "1      Posted July 15, 2011.   22200       True   \n",
       "2     Posted April 21, 2011.   43110       True   \n",
       "3      Posted June 24, 2014.  251610       True   \n",
       "4  Posted September 8, 2013.  227300       True   \n",
       "\n",
       "                                              review            user_id  \n",
       "0  Simple yet with great replayability. In my opi...  76561197970982479  \n",
       "1               It's unique and worth a playthrough.  76561197970982479  \n",
       "2  Great atmosphere. The gunplay can be a bit chu...  76561197970982479  \n",
       "3  I know what you think when you see this title ...            js41637  \n",
       "4  For a simple (it's actually not all that simpl...            js41637  "
      ]
     },
     "execution_count": 14,
     "metadata": {},
     "output_type": "execute_result"
    }
   ],
   "source": [
    "df_reviews.head()"
   ]
  },
  {
   "cell_type": "markdown",
   "metadata": {},
   "source": [
    "Ahora procedemos a evaluar la cantidad de filas duplicadas"
   ]
  },
  {
   "cell_type": "code",
   "execution_count": 15,
   "metadata": {},
   "outputs": [
    {
     "name": "stdout",
     "output_type": "stream",
     "text": [
      "Número de filas duplicadas: 1736\n"
     ]
    }
   ],
   "source": [
    "# Encuentra registros duplicados basados en las columnas especificadas\n",
    "filas_duplicadas = df_reviews[df_reviews.duplicated(subset=['user_id', 'item_id', 'posted', 'review'], keep=False)]\n",
    "\n",
    "# Muestra el recuento de filas duplicadas\n",
    "print(\"Número de filas duplicadas:\", len(filas_duplicadas))\n"
   ]
  },
  {
   "cell_type": "markdown",
   "metadata": {},
   "source": [
    "Procedemos a eliminar los duplicados"
   ]
  },
  {
   "cell_type": "code",
   "execution_count": 16,
   "metadata": {},
   "outputs": [
    {
     "name": "stdout",
     "output_type": "stream",
     "text": [
      "Número de filas antes de eliminar duplicados: 59305\n",
      "Número de filas después de eliminar duplicados: 58431\n"
     ]
    }
   ],
   "source": [
    "print(\"Número de filas antes de eliminar duplicados:\", len(df_reviews))\n",
    "\n",
    "# Eliminar las filas duplicadas basadas en las columnas especificadas\n",
    "df_reviews = df_reviews.drop_duplicates(subset=['user_id', 'item_id', 'posted', 'review'], keep='first')\n",
    "\n",
    "# Verificar la forma del DataFrame después de eliminar duplicados\n",
    "print(\"Número de filas después de eliminar duplicados:\", len(df_reviews))\n"
   ]
  },
  {
   "cell_type": "markdown",
   "metadata": {},
   "source": [
    "Ahora queremos obtener el dato del año de la columna \"posted\", para lo cual primero observaremos algunos de sus valores únicos"
   ]
  },
  {
   "cell_type": "code",
   "execution_count": 17,
   "metadata": {},
   "outputs": [
    {
     "name": "stdout",
     "output_type": "stream",
     "text": [
      "Valores únicos de 'posted':\n",
      "['Posted November 5, 2011.' 'Posted July 15, 2011.'\n",
      " 'Posted April 21, 2011.' ... 'Posted February 18, 2013.'\n",
      " 'Posted November 13, 2012.' 'Posted November 3, 2012.']\n"
     ]
    }
   ],
   "source": [
    "# Obtener una lista de los valores únicos en la columna 'posted'\n",
    "valores_unicos_posted = df_reviews['posted'].unique()\n",
    "\n",
    "# Mostrar la lista de valores únicos de 'posted'\n",
    "print(\"Valores únicos de 'posted':\")\n",
    "print(valores_unicos_posted)\n"
   ]
  },
  {
   "cell_type": "markdown",
   "metadata": {},
   "source": [
    "Parece que todos los valores empiezan por 'Posted ', primero corroboraremos dicha afirmación"
   ]
  },
  {
   "cell_type": "code",
   "execution_count": 18,
   "metadata": {},
   "outputs": [
    {
     "name": "stdout",
     "output_type": "stream",
     "text": [
      "¿Todos los valores de la columna 'posted' empiezan con 'Posted '? True\n"
     ]
    }
   ],
   "source": [
    "# Verificar si todos los valores de la columna 'posted' comienzan con 'Posted '\n",
    "todos_empiezan_con_posted = df_reviews['posted'].str.startswith('Posted ').all()\n",
    "\n",
    "# Imprimir el resultado\n",
    "print(\"¿Todos los valores de la columna 'posted' empiezan con 'Posted '?\", todos_empiezan_con_posted)\n"
   ]
  },
  {
   "cell_type": "markdown",
   "metadata": {},
   "source": [
    "Dado que sí es verdad, procederemos a eliminar la cadena 'Posted ' para poder trabajar con las fechas de la columna posted"
   ]
  },
  {
   "cell_type": "code",
   "execution_count": 19,
   "metadata": {},
   "outputs": [
    {
     "name": "stdout",
     "output_type": "stream",
     "text": [
      "¿Todos los valores de la columna 'posted' comienzan con 'Posted '? False\n"
     ]
    }
   ],
   "source": [
    "# Eliminar la cadena 'Posted ' de todos los valores en la columna 'posted'\n",
    "df_reviews['posted'] = df_reviews['posted'].str.replace('Posted ', '')\n",
    "\n",
    "# Verificar que la cadena 'Posted ' haya sido eliminada correctamente\n",
    "todos_empiezan_con_posted = df_reviews['posted'].str.startswith('Posted ').any()\n",
    "print(\"¿Todos los valores de la columna 'posted' comienzan con 'Posted '?\", todos_empiezan_con_posted)\n"
   ]
  },
  {
   "cell_type": "markdown",
   "metadata": {},
   "source": [
    "Ahora verificamos si todos los valores terminan con '.'"
   ]
  },
  {
   "cell_type": "code",
   "execution_count": 20,
   "metadata": {},
   "outputs": [
    {
     "name": "stdout",
     "output_type": "stream",
     "text": [
      "¿Todos los valores de la columna 'posted' terminan con '.'? True\n"
     ]
    }
   ],
   "source": [
    "# Verificar si todos los valores de la columna 'posted' terminan con '.'\n",
    "todos_terminan_con_punto = df_reviews['posted'].str.endswith('.').all()\n",
    "\n",
    "# Imprimir el resultado\n",
    "print(\"¿Todos los valores de la columna 'posted' terminan con '.'?\", todos_terminan_con_punto)\n"
   ]
  },
  {
   "cell_type": "markdown",
   "metadata": {},
   "source": [
    "Dado que sí es verdad, procederemos a eliminar el caracter '.' para poder trabajar con las fechas de la columna posted"
   ]
  },
  {
   "cell_type": "code",
   "execution_count": 21,
   "metadata": {},
   "outputs": [
    {
     "name": "stdout",
     "output_type": "stream",
     "text": [
      "¿Todos los valores de la columna 'posted' terminan con '.'? False\n"
     ]
    }
   ],
   "source": [
    "# Eliminar la cadena '.' al final de todos los valores en la columna 'posted'\n",
    "df_reviews['posted'] = df_reviews['posted'].str.rstrip('.')\n",
    "\n",
    "# Verificar que la cadena '.' haya sido eliminada correctamente\n",
    "todos_terminan_con_punto = df_reviews['posted'].str.endswith('.').any()\n",
    "print(\"¿Todos los valores de la columna 'posted' terminan con '.'?\", todos_terminan_con_punto)\n"
   ]
  },
  {
   "cell_type": "markdown",
   "metadata": {},
   "source": [
    "Ahora podemos verificar que los valores de posted serán más sencillos de transformar a tipo de dato datetime"
   ]
  },
  {
   "cell_type": "code",
   "execution_count": 22,
   "metadata": {},
   "outputs": [
    {
     "name": "stdout",
     "output_type": "stream",
     "text": [
      "Valores únicos de 'posted':\n",
      "['November 5, 2011' 'July 15, 2011' 'April 21, 2011' ...\n",
      " 'February 18, 2013' 'November 13, 2012' 'November 3, 2012']\n"
     ]
    }
   ],
   "source": [
    "# Obtener una lista de los valores únicos en la columna 'posted'\n",
    "valores_unicos_posted = df_reviews['posted'].unique()\n",
    "\n",
    "# Mostrar la lista de valores únicos de 'posted'\n",
    "print(\"Valores únicos de 'posted':\")\n",
    "print(valores_unicos_posted)"
   ]
  },
  {
   "cell_type": "markdown",
   "metadata": {},
   "source": [
    "Intentaremos convertir cada fila a formato fecha, la razón de no usar un solo patrón específico"
   ]
  },
  {
   "cell_type": "code",
   "execution_count": 23,
   "metadata": {},
   "outputs": [
    {
     "name": "stdout",
     "output_type": "stream",
     "text": [
      "0   2011-11-05\n",
      "1   2011-07-15\n",
      "2   2011-04-21\n",
      "3   2014-06-24\n",
      "4   2013-09-08\n",
      "Name: posted, dtype: datetime64[ns]\n"
     ]
    }
   ],
   "source": [
    "# Definir una función para convertir valores a fecha de manera dinámica\n",
    "def convertir_a_fecha(valor):\n",
    "    try:\n",
    "        fecha = pd.to_datetime(valor)\n",
    "        return fecha\n",
    "    except:\n",
    "        return pd.NaT\n",
    "\n",
    "# Aplicar la función a la columna 'posted'\n",
    "df_reviews['posted'] = df_reviews['posted'].apply(lambda x: convertir_a_fecha(x))\n",
    "\n",
    "# Verificar la conversión\n",
    "print(df_reviews['posted'].head())\n"
   ]
  },
  {
   "cell_type": "markdown",
   "metadata": {},
   "source": [
    "Ahora verificaremos la cantidad de fechas que logró registrar"
   ]
  },
  {
   "cell_type": "code",
   "execution_count": 24,
   "metadata": {},
   "outputs": [
    {
     "name": "stdout",
     "output_type": "stream",
     "text": [
      "<class 'pandas.core.frame.DataFrame'>\n",
      "Index: 58431 entries, 0 to 59304\n",
      "Data columns (total 5 columns):\n",
      " #   Column     Non-Null Count  Dtype         \n",
      "---  ------     --------------  -----         \n",
      " 0   posted     48498 non-null  datetime64[ns]\n",
      " 1   item_id    58431 non-null  object        \n",
      " 2   recommend  58431 non-null  bool          \n",
      " 3   review     58401 non-null  object        \n",
      " 4   user_id    58431 non-null  object        \n",
      "dtypes: bool(1), datetime64[ns](1), object(3)\n",
      "memory usage: 2.3+ MB\n"
     ]
    }
   ],
   "source": [
    "df_reviews.info()"
   ]
  },
  {
   "cell_type": "markdown",
   "metadata": {},
   "source": [
    "Después crearemos la columna 'year' extrayendo el año de 'posted'"
   ]
  },
  {
   "cell_type": "code",
   "execution_count": 25,
   "metadata": {},
   "outputs": [
    {
     "name": "stdout",
     "output_type": "stream",
     "text": [
      "      posted    year\n",
      "0 2011-11-05  2011.0\n",
      "1 2011-07-15  2011.0\n",
      "2 2011-04-21  2011.0\n",
      "3 2014-06-24  2014.0\n",
      "4 2013-09-08  2013.0\n"
     ]
    }
   ],
   "source": [
    "# Convertir la columna 'posted' al formato de fecha si aún no lo está\n",
    "df_reviews['posted'] = pd.to_datetime(df_reviews['posted'], errors='coerce')\n",
    "\n",
    "# Extraer el año de la columna 'posted' y crear la columna 'year'\n",
    "df_reviews['year'] = df_reviews['posted'].dt.year\n",
    "\n",
    "# Verificar la nueva columna 'year'\n",
    "print(df_reviews[['posted', 'year']].head())\n"
   ]
  },
  {
   "cell_type": "markdown",
   "metadata": {},
   "source": [
    "Dado que faltan muchos valores nulos, procedemos a rellenar los valores nulos en la columna 'year' mediante interpolación lineal por grupo ('item_id'), primero debemos ordenar el DataFrame por 'item_id' y 'year' para asegurar que la interpolación se realice correctamente. Luego, podemos aplicar la interpolación por grupo utilizando el método groupby() de Pandas junto con interpolate()."
   ]
  },
  {
   "cell_type": "code",
   "execution_count": 26,
   "metadata": {},
   "outputs": [
    {
     "data": {
      "text/html": [
       "<div>\n",
       "<style scoped>\n",
       "    .dataframe tbody tr th:only-of-type {\n",
       "        vertical-align: middle;\n",
       "    }\n",
       "\n",
       "    .dataframe tbody tr th {\n",
       "        vertical-align: top;\n",
       "    }\n",
       "\n",
       "    .dataframe thead th {\n",
       "        text-align: right;\n",
       "    }\n",
       "</style>\n",
       "<table border=\"1\" class=\"dataframe\">\n",
       "  <thead>\n",
       "    <tr style=\"text-align: right;\">\n",
       "      <th></th>\n",
       "      <th>item_id</th>\n",
       "      <th>year</th>\n",
       "    </tr>\n",
       "  </thead>\n",
       "  <tbody>\n",
       "    <tr>\n",
       "      <th>5331</th>\n",
       "      <td>10</td>\n",
       "      <td>2011</td>\n",
       "    </tr>\n",
       "    <tr>\n",
       "      <th>22702</th>\n",
       "      <td>10</td>\n",
       "      <td>2012</td>\n",
       "    </tr>\n",
       "    <tr>\n",
       "      <th>35539</th>\n",
       "      <td>10</td>\n",
       "      <td>2012</td>\n",
       "    </tr>\n",
       "    <tr>\n",
       "      <th>43134</th>\n",
       "      <td>10</td>\n",
       "      <td>2012</td>\n",
       "    </tr>\n",
       "    <tr>\n",
       "      <th>24137</th>\n",
       "      <td>10</td>\n",
       "      <td>2013</td>\n",
       "    </tr>\n",
       "  </tbody>\n",
       "</table>\n",
       "</div>"
      ],
      "text/plain": [
       "      item_id  year\n",
       "5331       10  2011\n",
       "22702      10  2012\n",
       "35539      10  2012\n",
       "43134      10  2012\n",
       "24137      10  2013"
      ]
     },
     "execution_count": 26,
     "metadata": {},
     "output_type": "execute_result"
    }
   ],
   "source": [
    "# Ordenar el DataFrame por 'item_id' y 'year'\n",
    "df_reviews.sort_values(['item_id', 'year'], inplace=True)\n",
    "\n",
    "# Rellenar valores nulos en 'year' mediante interpolación lineal\n",
    "df_reviews['year'] = df_reviews['year'].interpolate(method='linear')\n",
    "\n",
    "# Redondear los valores de la columna 'year' para que sean enteros\n",
    "df_reviews['year'] = df_reviews['year'].astype(int)\n",
    "\n",
    "# Verificar los cambios\n",
    "df_reviews[['item_id', 'year']].head()\n"
   ]
  },
  {
   "cell_type": "code",
   "execution_count": 27,
   "metadata": {},
   "outputs": [
    {
     "name": "stdout",
     "output_type": "stream",
     "text": [
      "<class 'pandas.core.frame.DataFrame'>\n",
      "Index: 58431 entries, 5331 to 32632\n",
      "Data columns (total 6 columns):\n",
      " #   Column     Non-Null Count  Dtype         \n",
      "---  ------     --------------  -----         \n",
      " 0   posted     48498 non-null  datetime64[ns]\n",
      " 1   item_id    58431 non-null  object        \n",
      " 2   recommend  58431 non-null  bool          \n",
      " 3   review     58401 non-null  object        \n",
      " 4   user_id    58431 non-null  object        \n",
      " 5   year       58431 non-null  int32         \n",
      "dtypes: bool(1), datetime64[ns](1), int32(1), object(3)\n",
      "memory usage: 2.5+ MB\n"
     ]
    }
   ],
   "source": [
    "df_reviews.info()"
   ]
  },
  {
   "cell_type": "markdown",
   "metadata": {},
   "source": [
    "Gracias a esto ya no hay más valores nulos en 'year' y podemos proceder a eliminar la columna 'posted'"
   ]
  },
  {
   "cell_type": "code",
   "execution_count": 28,
   "metadata": {},
   "outputs": [],
   "source": [
    "# Eliminar la columna 'posted'\n",
    "df_reviews.drop(columns=['posted'], inplace=True)"
   ]
  },
  {
   "cell_type": "markdown",
   "metadata": {},
   "source": [
    "Detectamos los idiomas presentes en nuestras revisiones de usuarios para entender mejor nuestra audiencia. Utilizamos un algoritmo de detección de lenguaje para contar y calcular el porcentaje de revisiones en cada idioma. Este análisis nos proporciona una visión diversa de las preferencias lingüísticas de nuestros usuarios."
   ]
  },
  {
   "cell_type": "code",
   "execution_count": 29,
   "metadata": {},
   "outputs": [],
   "source": [
    "# Función para detectar el idioma de cada review\n",
    "def detect_language(text):\n",
    "    try:\n",
    "        return detect(text)\n",
    "    except:\n",
    "        return 'unknown'\n",
    "\n",
    "# Aplicar la función detect_language a la columna 'review' y crear una nueva columna 'language'\n",
    "df_reviews['language'] = df_reviews['review'].apply(detect_language)\n",
    "\n",
    "# Contar la cantidad de reviews por cada idioma\n",
    "language_counts = df_reviews['language'].value_counts().reset_index()\n",
    "language_counts.columns = ['language', 'review_count']\n",
    "\n",
    "# Calcular el porcentaje de cada idioma en relación al total de reviews\n",
    "language_counts['percentage'] = (language_counts['review_count'] / len(df_reviews)) * 100\n",
    "\n",
    "# Ordenar los idiomas por cantidad de reviews en orden descendente\n",
    "language_counts = language_counts.sort_values(by='review_count', ascending=False)\n"
   ]
  },
  {
   "cell_type": "code",
   "execution_count": 30,
   "metadata": {},
   "outputs": [
    {
     "data": {
      "text/html": [
       "<div>\n",
       "<style scoped>\n",
       "    .dataframe tbody tr th:only-of-type {\n",
       "        vertical-align: middle;\n",
       "    }\n",
       "\n",
       "    .dataframe tbody tr th {\n",
       "        vertical-align: top;\n",
       "    }\n",
       "\n",
       "    .dataframe thead th {\n",
       "        text-align: right;\n",
       "    }\n",
       "</style>\n",
       "<table border=\"1\" class=\"dataframe\">\n",
       "  <thead>\n",
       "    <tr style=\"text-align: right;\">\n",
       "      <th></th>\n",
       "      <th>language</th>\n",
       "      <th>review_count</th>\n",
       "      <th>percentage</th>\n",
       "    </tr>\n",
       "  </thead>\n",
       "  <tbody>\n",
       "    <tr>\n",
       "      <th>0</th>\n",
       "      <td>en</td>\n",
       "      <td>45085</td>\n",
       "      <td>77.159385</td>\n",
       "    </tr>\n",
       "    <tr>\n",
       "      <th>1</th>\n",
       "      <td>pt</td>\n",
       "      <td>2156</td>\n",
       "      <td>3.689822</td>\n",
       "    </tr>\n",
       "    <tr>\n",
       "      <th>2</th>\n",
       "      <td>es</td>\n",
       "      <td>1257</td>\n",
       "      <td>2.151255</td>\n",
       "    </tr>\n",
       "    <tr>\n",
       "      <th>3</th>\n",
       "      <td>de</td>\n",
       "      <td>1132</td>\n",
       "      <td>1.937328</td>\n",
       "    </tr>\n",
       "    <tr>\n",
       "      <th>4</th>\n",
       "      <td>so</td>\n",
       "      <td>1011</td>\n",
       "      <td>1.730246</td>\n",
       "    </tr>\n",
       "    <tr>\n",
       "      <th>5</th>\n",
       "      <td>af</td>\n",
       "      <td>746</td>\n",
       "      <td>1.276720</td>\n",
       "    </tr>\n",
       "    <tr>\n",
       "      <th>6</th>\n",
       "      <td>th</td>\n",
       "      <td>709</td>\n",
       "      <td>1.213397</td>\n",
       "    </tr>\n",
       "    <tr>\n",
       "      <th>7</th>\n",
       "      <td>unknown</td>\n",
       "      <td>573</td>\n",
       "      <td>0.980644</td>\n",
       "    </tr>\n",
       "    <tr>\n",
       "      <th>8</th>\n",
       "      <td>tl</td>\n",
       "      <td>565</td>\n",
       "      <td>0.966952</td>\n",
       "    </tr>\n",
       "    <tr>\n",
       "      <th>9</th>\n",
       "      <td>cy</td>\n",
       "      <td>446</td>\n",
       "      <td>0.763293</td>\n",
       "    </tr>\n",
       "    <tr>\n",
       "      <th>10</th>\n",
       "      <td>da</td>\n",
       "      <td>408</td>\n",
       "      <td>0.698259</td>\n",
       "    </tr>\n",
       "    <tr>\n",
       "      <th>11</th>\n",
       "      <td>no</td>\n",
       "      <td>370</td>\n",
       "      <td>0.633226</td>\n",
       "    </tr>\n",
       "    <tr>\n",
       "      <th>12</th>\n",
       "      <td>nl</td>\n",
       "      <td>310</td>\n",
       "      <td>0.530540</td>\n",
       "    </tr>\n",
       "    <tr>\n",
       "      <th>13</th>\n",
       "      <td>ca</td>\n",
       "      <td>260</td>\n",
       "      <td>0.444969</td>\n",
       "    </tr>\n",
       "    <tr>\n",
       "      <th>14</th>\n",
       "      <td>pl</td>\n",
       "      <td>244</td>\n",
       "      <td>0.417587</td>\n",
       "    </tr>\n",
       "    <tr>\n",
       "      <th>15</th>\n",
       "      <td>ro</td>\n",
       "      <td>243</td>\n",
       "      <td>0.415875</td>\n",
       "    </tr>\n",
       "    <tr>\n",
       "      <th>16</th>\n",
       "      <td>id</td>\n",
       "      <td>241</td>\n",
       "      <td>0.412452</td>\n",
       "    </tr>\n",
       "    <tr>\n",
       "      <th>17</th>\n",
       "      <td>it</td>\n",
       "      <td>238</td>\n",
       "      <td>0.407318</td>\n",
       "    </tr>\n",
       "    <tr>\n",
       "      <th>18</th>\n",
       "      <td>ko</td>\n",
       "      <td>231</td>\n",
       "      <td>0.395338</td>\n",
       "    </tr>\n",
       "    <tr>\n",
       "      <th>19</th>\n",
       "      <td>fr</td>\n",
       "      <td>231</td>\n",
       "      <td>0.395338</td>\n",
       "    </tr>\n",
       "    <tr>\n",
       "      <th>20</th>\n",
       "      <td>ru</td>\n",
       "      <td>211</td>\n",
       "      <td>0.361110</td>\n",
       "    </tr>\n",
       "    <tr>\n",
       "      <th>21</th>\n",
       "      <td>zh-cn</td>\n",
       "      <td>210</td>\n",
       "      <td>0.359398</td>\n",
       "    </tr>\n",
       "    <tr>\n",
       "      <th>22</th>\n",
       "      <td>sw</td>\n",
       "      <td>177</td>\n",
       "      <td>0.302921</td>\n",
       "    </tr>\n",
       "    <tr>\n",
       "      <th>23</th>\n",
       "      <td>et</td>\n",
       "      <td>173</td>\n",
       "      <td>0.296076</td>\n",
       "    </tr>\n",
       "    <tr>\n",
       "      <th>24</th>\n",
       "      <td>tr</td>\n",
       "      <td>167</td>\n",
       "      <td>0.285807</td>\n",
       "    </tr>\n",
       "    <tr>\n",
       "      <th>25</th>\n",
       "      <td>hr</td>\n",
       "      <td>135</td>\n",
       "      <td>0.231042</td>\n",
       "    </tr>\n",
       "    <tr>\n",
       "      <th>26</th>\n",
       "      <td>sl</td>\n",
       "      <td>133</td>\n",
       "      <td>0.227619</td>\n",
       "    </tr>\n",
       "    <tr>\n",
       "      <th>27</th>\n",
       "      <td>vi</td>\n",
       "      <td>120</td>\n",
       "      <td>0.205370</td>\n",
       "    </tr>\n",
       "    <tr>\n",
       "      <th>28</th>\n",
       "      <td>sq</td>\n",
       "      <td>102</td>\n",
       "      <td>0.174565</td>\n",
       "    </tr>\n",
       "    <tr>\n",
       "      <th>29</th>\n",
       "      <td>fi</td>\n",
       "      <td>101</td>\n",
       "      <td>0.172853</td>\n",
       "    </tr>\n",
       "    <tr>\n",
       "      <th>30</th>\n",
       "      <td>hu</td>\n",
       "      <td>99</td>\n",
       "      <td>0.169431</td>\n",
       "    </tr>\n",
       "    <tr>\n",
       "      <th>31</th>\n",
       "      <td>sk</td>\n",
       "      <td>74</td>\n",
       "      <td>0.126645</td>\n",
       "    </tr>\n",
       "    <tr>\n",
       "      <th>32</th>\n",
       "      <td>sv</td>\n",
       "      <td>69</td>\n",
       "      <td>0.118088</td>\n",
       "    </tr>\n",
       "    <tr>\n",
       "      <th>33</th>\n",
       "      <td>lv</td>\n",
       "      <td>39</td>\n",
       "      <td>0.066745</td>\n",
       "    </tr>\n",
       "    <tr>\n",
       "      <th>34</th>\n",
       "      <td>lt</td>\n",
       "      <td>38</td>\n",
       "      <td>0.065034</td>\n",
       "    </tr>\n",
       "    <tr>\n",
       "      <th>35</th>\n",
       "      <td>cs</td>\n",
       "      <td>38</td>\n",
       "      <td>0.065034</td>\n",
       "    </tr>\n",
       "    <tr>\n",
       "      <th>36</th>\n",
       "      <td>ja</td>\n",
       "      <td>37</td>\n",
       "      <td>0.063323</td>\n",
       "    </tr>\n",
       "    <tr>\n",
       "      <th>37</th>\n",
       "      <td>bg</td>\n",
       "      <td>20</td>\n",
       "      <td>0.034228</td>\n",
       "    </tr>\n",
       "    <tr>\n",
       "      <th>38</th>\n",
       "      <td>uk</td>\n",
       "      <td>13</td>\n",
       "      <td>0.022248</td>\n",
       "    </tr>\n",
       "    <tr>\n",
       "      <th>39</th>\n",
       "      <td>zh-tw</td>\n",
       "      <td>9</td>\n",
       "      <td>0.015403</td>\n",
       "    </tr>\n",
       "    <tr>\n",
       "      <th>40</th>\n",
       "      <td>mk</td>\n",
       "      <td>7</td>\n",
       "      <td>0.011980</td>\n",
       "    </tr>\n",
       "    <tr>\n",
       "      <th>41</th>\n",
       "      <td>ar</td>\n",
       "      <td>2</td>\n",
       "      <td>0.003423</td>\n",
       "    </tr>\n",
       "    <tr>\n",
       "      <th>42</th>\n",
       "      <td>ta</td>\n",
       "      <td>1</td>\n",
       "      <td>0.001711</td>\n",
       "    </tr>\n",
       "  </tbody>\n",
       "</table>\n",
       "</div>"
      ],
      "text/plain": [
       "   language  review_count  percentage\n",
       "0        en         45085   77.159385\n",
       "1        pt          2156    3.689822\n",
       "2        es          1257    2.151255\n",
       "3        de          1132    1.937328\n",
       "4        so          1011    1.730246\n",
       "5        af           746    1.276720\n",
       "6        th           709    1.213397\n",
       "7   unknown           573    0.980644\n",
       "8        tl           565    0.966952\n",
       "9        cy           446    0.763293\n",
       "10       da           408    0.698259\n",
       "11       no           370    0.633226\n",
       "12       nl           310    0.530540\n",
       "13       ca           260    0.444969\n",
       "14       pl           244    0.417587\n",
       "15       ro           243    0.415875\n",
       "16       id           241    0.412452\n",
       "17       it           238    0.407318\n",
       "18       ko           231    0.395338\n",
       "19       fr           231    0.395338\n",
       "20       ru           211    0.361110\n",
       "21    zh-cn           210    0.359398\n",
       "22       sw           177    0.302921\n",
       "23       et           173    0.296076\n",
       "24       tr           167    0.285807\n",
       "25       hr           135    0.231042\n",
       "26       sl           133    0.227619\n",
       "27       vi           120    0.205370\n",
       "28       sq           102    0.174565\n",
       "29       fi           101    0.172853\n",
       "30       hu            99    0.169431\n",
       "31       sk            74    0.126645\n",
       "32       sv            69    0.118088\n",
       "33       lv            39    0.066745\n",
       "34       lt            38    0.065034\n",
       "35       cs            38    0.065034\n",
       "36       ja            37    0.063323\n",
       "37       bg            20    0.034228\n",
       "38       uk            13    0.022248\n",
       "39    zh-tw             9    0.015403\n",
       "40       mk             7    0.011980\n",
       "41       ar             2    0.003423\n",
       "42       ta             1    0.001711"
      ]
     },
     "execution_count": 30,
     "metadata": {},
     "output_type": "execute_result"
    }
   ],
   "source": [
    "# Mostrar el DataFrame con los idiomas, el conteo de reviews y el porcentaje\n",
    "language_counts\n"
   ]
  },
  {
   "cell_type": "markdown",
   "metadata": {},
   "source": [
    "Consideraremos a los 5 idiomas más representados dado que abarcan más del 80% de los comentarios, redondearemos el procentaje a dos dígitos"
   ]
  },
  {
   "cell_type": "code",
   "execution_count": 31,
   "metadata": {},
   "outputs": [],
   "source": [
    "# Mapeo de idiomas\n",
    "language_mapping = {\n",
    "    'en': 'English',\n",
    "    'pt': 'Portuguese',\n",
    "    'es': 'Spanish',\n",
    "    'de': 'German',\n",
    "    'so': 'Somali'\n",
    "}\n",
    "\n",
    "# Remapear los idiomas directamente en la columna 'language' y eliminar las filas con idiomas que no están en el mapeo\n",
    "language_counts['language'] = language_counts['language'].map(language_mapping)\n",
    "language_counts = language_counts[language_counts['language'].notnull()]\n",
    "\n",
    "# Redondear el porcentaje a 2 dígitos\n",
    "language_counts['percentage'] = language_counts['percentage'].round(2)\n"
   ]
  },
  {
   "cell_type": "code",
   "execution_count": 32,
   "metadata": {},
   "outputs": [
    {
     "data": {
      "text/html": [
       "<div>\n",
       "<style scoped>\n",
       "    .dataframe tbody tr th:only-of-type {\n",
       "        vertical-align: middle;\n",
       "    }\n",
       "\n",
       "    .dataframe tbody tr th {\n",
       "        vertical-align: top;\n",
       "    }\n",
       "\n",
       "    .dataframe thead th {\n",
       "        text-align: right;\n",
       "    }\n",
       "</style>\n",
       "<table border=\"1\" class=\"dataframe\">\n",
       "  <thead>\n",
       "    <tr style=\"text-align: right;\">\n",
       "      <th></th>\n",
       "      <th>language</th>\n",
       "      <th>review_count</th>\n",
       "      <th>percentage</th>\n",
       "    </tr>\n",
       "  </thead>\n",
       "  <tbody>\n",
       "    <tr>\n",
       "      <th>0</th>\n",
       "      <td>English</td>\n",
       "      <td>45085</td>\n",
       "      <td>77.16</td>\n",
       "    </tr>\n",
       "    <tr>\n",
       "      <th>1</th>\n",
       "      <td>Portuguese</td>\n",
       "      <td>2156</td>\n",
       "      <td>3.69</td>\n",
       "    </tr>\n",
       "    <tr>\n",
       "      <th>2</th>\n",
       "      <td>Spanish</td>\n",
       "      <td>1257</td>\n",
       "      <td>2.15</td>\n",
       "    </tr>\n",
       "    <tr>\n",
       "      <th>3</th>\n",
       "      <td>German</td>\n",
       "      <td>1132</td>\n",
       "      <td>1.94</td>\n",
       "    </tr>\n",
       "    <tr>\n",
       "      <th>4</th>\n",
       "      <td>Somali</td>\n",
       "      <td>1011</td>\n",
       "      <td>1.73</td>\n",
       "    </tr>\n",
       "  </tbody>\n",
       "</table>\n",
       "</div>"
      ],
      "text/plain": [
       "     language  review_count  percentage\n",
       "0     English         45085       77.16\n",
       "1  Portuguese          2156        3.69\n",
       "2     Spanish          1257        2.15\n",
       "3      German          1132        1.94\n",
       "4      Somali          1011        1.73"
      ]
     },
     "execution_count": 32,
     "metadata": {},
     "output_type": "execute_result"
    }
   ],
   "source": [
    "# Mostrar el DataFrame con los idiomas, el conteo de reviews y el porcentaje\n",
    "language_counts\n"
   ]
  },
  {
   "cell_type": "markdown",
   "metadata": {},
   "source": [
    "Después exportamos el dataframe a la ubicación correspondiente"
   ]
  },
  {
   "cell_type": "code",
   "execution_count": 33,
   "metadata": {},
   "outputs": [],
   "source": [
    "# Definir la ruta de salida del archivo CSV\n",
    "output_path = '../Data/Processed/Clean_data/language_counts.csv'\n",
    "\n",
    "# Exportar el DataFrame a un archivo CSV\n",
    "language_counts.to_csv(output_path, index=False)"
   ]
  },
  {
   "cell_type": "markdown",
   "metadata": {},
   "source": [
    "Dado que la mayoría de filas de df_reviews están escritas en idioma inglés y para favorecer el análisis y transformaciones en la siguiente sección, se decidió mantener solo a las reviews en inglés en df_reviews "
   ]
  },
  {
   "cell_type": "code",
   "execution_count": 34,
   "metadata": {},
   "outputs": [],
   "source": [
    "# Filtrar las filas donde el idioma de la revisión sea inglés ('en')\n",
    "df_reviews = df_reviews[df_reviews['language'] == 'en']\n",
    "\n",
    "# Restablecer el índice después de filtrar\n",
    "df_reviews.reset_index(drop=True, inplace=True)"
   ]
  },
  {
   "cell_type": "code",
   "execution_count": 35,
   "metadata": {},
   "outputs": [
    {
     "data": {
      "text/html": [
       "<div>\n",
       "<style scoped>\n",
       "    .dataframe tbody tr th:only-of-type {\n",
       "        vertical-align: middle;\n",
       "    }\n",
       "\n",
       "    .dataframe tbody tr th {\n",
       "        vertical-align: top;\n",
       "    }\n",
       "\n",
       "    .dataframe thead th {\n",
       "        text-align: right;\n",
       "    }\n",
       "</style>\n",
       "<table border=\"1\" class=\"dataframe\">\n",
       "  <thead>\n",
       "    <tr style=\"text-align: right;\">\n",
       "      <th></th>\n",
       "      <th>item_id</th>\n",
       "      <th>recommend</th>\n",
       "      <th>review</th>\n",
       "      <th>user_id</th>\n",
       "      <th>year</th>\n",
       "      <th>language</th>\n",
       "    </tr>\n",
       "  </thead>\n",
       "  <tbody>\n",
       "    <tr>\n",
       "      <th>0</th>\n",
       "      <td>10</td>\n",
       "      <td>True</td>\n",
       "      <td>this game is the 1# online action game is awes...</td>\n",
       "      <td>76561198040188061</td>\n",
       "      <td>2011</td>\n",
       "      <td>en</td>\n",
       "    </tr>\n",
       "    <tr>\n",
       "      <th>1</th>\n",
       "      <td>10</td>\n",
       "      <td>True</td>\n",
       "      <td>The OG to CS:GO.</td>\n",
       "      <td>epic_doom</td>\n",
       "      <td>2013</td>\n",
       "      <td>en</td>\n",
       "    </tr>\n",
       "    <tr>\n",
       "      <th>2</th>\n",
       "      <td>10</td>\n",
       "      <td>True</td>\n",
       "      <td>THE BEST FPS GAME!!!!!</td>\n",
       "      <td>mayshowganmore</td>\n",
       "      <td>2014</td>\n",
       "      <td>en</td>\n",
       "    </tr>\n",
       "    <tr>\n",
       "      <th>3</th>\n",
       "      <td>10</td>\n",
       "      <td>True</td>\n",
       "      <td>One of the best childhood games i have ever pl...</td>\n",
       "      <td>BestinTheWorldThund3r</td>\n",
       "      <td>2014</td>\n",
       "      <td>en</td>\n",
       "    </tr>\n",
       "    <tr>\n",
       "      <th>4</th>\n",
       "      <td>10</td>\n",
       "      <td>True</td>\n",
       "      <td>People still play this! Siq game</td>\n",
       "      <td>76561198072207162</td>\n",
       "      <td>2014</td>\n",
       "      <td>en</td>\n",
       "    </tr>\n",
       "  </tbody>\n",
       "</table>\n",
       "</div>"
      ],
      "text/plain": [
       "  item_id  recommend                                             review  \\\n",
       "0      10       True  this game is the 1# online action game is awes...   \n",
       "1      10       True                                   The OG to CS:GO.   \n",
       "2      10       True                             THE BEST FPS GAME!!!!!   \n",
       "3      10       True  One of the best childhood games i have ever pl...   \n",
       "4      10       True                   People still play this! Siq game   \n",
       "\n",
       "                 user_id  year language  \n",
       "0      76561198040188061  2011       en  \n",
       "1              epic_doom  2013       en  \n",
       "2         mayshowganmore  2014       en  \n",
       "3  BestinTheWorldThund3r  2014       en  \n",
       "4      76561198072207162  2014       en  "
      ]
     },
     "execution_count": 35,
     "metadata": {},
     "output_type": "execute_result"
    }
   ],
   "source": [
    "df_reviews.head()"
   ]
  },
  {
   "cell_type": "code",
   "execution_count": 36,
   "metadata": {},
   "outputs": [],
   "source": [
    "# Eliminar la columna 'language'\n",
    "df_reviews.drop(columns=['language'], inplace=True)\n"
   ]
  },
  {
   "cell_type": "code",
   "execution_count": 37,
   "metadata": {},
   "outputs": [
    {
     "data": {
      "text/html": [
       "<div>\n",
       "<style scoped>\n",
       "    .dataframe tbody tr th:only-of-type {\n",
       "        vertical-align: middle;\n",
       "    }\n",
       "\n",
       "    .dataframe tbody tr th {\n",
       "        vertical-align: top;\n",
       "    }\n",
       "\n",
       "    .dataframe thead th {\n",
       "        text-align: right;\n",
       "    }\n",
       "</style>\n",
       "<table border=\"1\" class=\"dataframe\">\n",
       "  <thead>\n",
       "    <tr style=\"text-align: right;\">\n",
       "      <th></th>\n",
       "      <th>item_id</th>\n",
       "      <th>recommend</th>\n",
       "      <th>review</th>\n",
       "      <th>user_id</th>\n",
       "      <th>year</th>\n",
       "    </tr>\n",
       "  </thead>\n",
       "  <tbody>\n",
       "    <tr>\n",
       "      <th>0</th>\n",
       "      <td>10</td>\n",
       "      <td>True</td>\n",
       "      <td>this game is the 1# online action game is awes...</td>\n",
       "      <td>76561198040188061</td>\n",
       "      <td>2011</td>\n",
       "    </tr>\n",
       "    <tr>\n",
       "      <th>1</th>\n",
       "      <td>10</td>\n",
       "      <td>True</td>\n",
       "      <td>The OG to CS:GO.</td>\n",
       "      <td>epic_doom</td>\n",
       "      <td>2013</td>\n",
       "    </tr>\n",
       "    <tr>\n",
       "      <th>2</th>\n",
       "      <td>10</td>\n",
       "      <td>True</td>\n",
       "      <td>THE BEST FPS GAME!!!!!</td>\n",
       "      <td>mayshowganmore</td>\n",
       "      <td>2014</td>\n",
       "    </tr>\n",
       "    <tr>\n",
       "      <th>3</th>\n",
       "      <td>10</td>\n",
       "      <td>True</td>\n",
       "      <td>One of the best childhood games i have ever pl...</td>\n",
       "      <td>BestinTheWorldThund3r</td>\n",
       "      <td>2014</td>\n",
       "    </tr>\n",
       "    <tr>\n",
       "      <th>4</th>\n",
       "      <td>10</td>\n",
       "      <td>True</td>\n",
       "      <td>People still play this! Siq game</td>\n",
       "      <td>76561198072207162</td>\n",
       "      <td>2014</td>\n",
       "    </tr>\n",
       "  </tbody>\n",
       "</table>\n",
       "</div>"
      ],
      "text/plain": [
       "  item_id  recommend                                             review  \\\n",
       "0      10       True  this game is the 1# online action game is awes...   \n",
       "1      10       True                                   The OG to CS:GO.   \n",
       "2      10       True                             THE BEST FPS GAME!!!!!   \n",
       "3      10       True  One of the best childhood games i have ever pl...   \n",
       "4      10       True                   People still play this! Siq game   \n",
       "\n",
       "                 user_id  year  \n",
       "0      76561198040188061  2011  \n",
       "1              epic_doom  2013  \n",
       "2         mayshowganmore  2014  \n",
       "3  BestinTheWorldThund3r  2014  \n",
       "4      76561198072207162  2014  "
      ]
     },
     "execution_count": 37,
     "metadata": {},
     "output_type": "execute_result"
    }
   ],
   "source": [
    "df_reviews.head()\n"
   ]
  },
  {
   "cell_type": "markdown",
   "metadata": {},
   "source": [
    "## 5. Feature Enginerring"
   ]
  },
  {
   "cell_type": "markdown",
   "metadata": {},
   "source": [
    "La sección \"Feature Engineering\" se centra en enriquecer los datos para mejorar el rendimiento de los modelos de machine learning y facilitar el análisis de datos. En esta sección, se aplicará análisis de sentimientos a las reseñas de los usuarios de juegos en Steam. Utilizando la biblioteca NLTK, se asignará a cada reseña un valor numérico que refleje su sentimiento, clasificándolas como negativas, neutrales o positivas. El código correspondiente inicializa un analizador de sentimientos y define una función para asignar valores de sentimiento a cada reseña. Luego, aplica esta función a la columna de reseñas, creando una nueva columna llamada \"sentiment_analysis\". Finalmente, elimina la columna original de reseñas para simplificar el conjunto de datos."
   ]
  },
  {
   "cell_type": "code",
   "execution_count": 38,
   "metadata": {},
   "outputs": [
    {
     "name": "stderr",
     "output_type": "stream",
     "text": [
      "[nltk_data] Downloading package punkt to\n",
      "[nltk_data]     C:\\Users\\User\\AppData\\Roaming\\nltk_data...\n",
      "[nltk_data]   Package punkt is already up-to-date!\n",
      "[nltk_data] Downloading package stopwords to\n",
      "[nltk_data]     C:\\Users\\User\\AppData\\Roaming\\nltk_data...\n",
      "[nltk_data]   Package stopwords is already up-to-date!\n",
      "[nltk_data] Downloading package wordnet to\n",
      "[nltk_data]     C:\\Users\\User\\AppData\\Roaming\\nltk_data...\n",
      "[nltk_data]   Package wordnet is already up-to-date!\n",
      "[nltk_data] Downloading package vader_lexicon to\n",
      "[nltk_data]     C:\\Users\\User\\AppData\\Roaming\\nltk_data...\n",
      "[nltk_data]   Package vader_lexicon is already up-to-date!\n"
     ]
    }
   ],
   "source": [
    "# Descargar los recursos necesarios de NLTK\n",
    "nltk.download('punkt')\n",
    "nltk.download('stopwords')\n",
    "nltk.download('wordnet')\n",
    "nltk.download('vader_lexicon')\n",
    "\n",
    "# Inicializar el analizador de sentimientos\n",
    "sid = SentimentIntensityAnalyzer()\n",
    "\n",
    "# Función para preprocesar el texto de las reseñas\n",
    "def preprocess_text(text):\n",
    "    # Convertir el texto a minúsculas\n",
    "    text = text.lower()\n",
    "    # Eliminar caracteres especiales y números\n",
    "    text = re.sub(r'[^a-zA-Z\\s]', '', text)\n",
    "    # Tokenización\n",
    "    tokens = word_tokenize(text)\n",
    "    # Eliminar stopwords\n",
    "    stop_words = set(stopwords.words('english'))\n",
    "    filtered_tokens = [word for word in tokens if word not in stop_words]\n",
    "    # Lematización\n",
    "    lemmatizer = WordNetLemmatizer()\n",
    "    lemmatized_tokens = [lemmatizer.lemmatize(word) for word in filtered_tokens]\n",
    "    # Unir tokens en un solo texto\n",
    "    preprocessed_text = ' '.join(lemmatized_tokens)\n",
    "    return preprocessed_text\n",
    "\n",
    "# Función para asignar el sentimiento según el análisis de Vader\n",
    "def get_sentiment(review):\n",
    "    if pd.isnull(review):\n",
    "        return 1  # Valor neutral si la reseña está ausente\n",
    "    else:\n",
    "        sentiment_score = sid.polarity_scores(review)['compound']\n",
    "        if sentiment_score >= 0.05:\n",
    "            return 2  # Valor positivo\n",
    "        elif sentiment_score <= -0.05:\n",
    "            return 0  # Valor negativo\n",
    "        else:\n",
    "            return 1  # Valor neutral\n",
    "\n",
    "# Aplicar preprocesamiento de texto a la columna 'review'\n",
    "df_reviews['processed_review'] = df_reviews['review'].apply(preprocess_text)\n",
    "\n",
    "# Aplicar el análisis de sentimientos y crear la columna 'sentiment_analysis'\n",
    "df_reviews['sentiment_analysis'] = df_reviews['processed_review'].apply(get_sentiment)\n",
    "\n",
    "# Eliminar las columnas temporales\n",
    "df_reviews.drop(columns=['review', 'processed_review'], inplace=True)\n"
   ]
  },
  {
   "cell_type": "code",
   "execution_count": 39,
   "metadata": {},
   "outputs": [
    {
     "data": {
      "text/html": [
       "<div>\n",
       "<style scoped>\n",
       "    .dataframe tbody tr th:only-of-type {\n",
       "        vertical-align: middle;\n",
       "    }\n",
       "\n",
       "    .dataframe tbody tr th {\n",
       "        vertical-align: top;\n",
       "    }\n",
       "\n",
       "    .dataframe thead th {\n",
       "        text-align: right;\n",
       "    }\n",
       "</style>\n",
       "<table border=\"1\" class=\"dataframe\">\n",
       "  <thead>\n",
       "    <tr style=\"text-align: right;\">\n",
       "      <th></th>\n",
       "      <th>item_id</th>\n",
       "      <th>recommend</th>\n",
       "      <th>user_id</th>\n",
       "      <th>year</th>\n",
       "      <th>sentiment_analysis</th>\n",
       "    </tr>\n",
       "  </thead>\n",
       "  <tbody>\n",
       "    <tr>\n",
       "      <th>0</th>\n",
       "      <td>10</td>\n",
       "      <td>True</td>\n",
       "      <td>76561198040188061</td>\n",
       "      <td>2011</td>\n",
       "      <td>2</td>\n",
       "    </tr>\n",
       "    <tr>\n",
       "      <th>1</th>\n",
       "      <td>10</td>\n",
       "      <td>True</td>\n",
       "      <td>epic_doom</td>\n",
       "      <td>2013</td>\n",
       "      <td>1</td>\n",
       "    </tr>\n",
       "    <tr>\n",
       "      <th>2</th>\n",
       "      <td>10</td>\n",
       "      <td>True</td>\n",
       "      <td>mayshowganmore</td>\n",
       "      <td>2014</td>\n",
       "      <td>2</td>\n",
       "    </tr>\n",
       "    <tr>\n",
       "      <th>3</th>\n",
       "      <td>10</td>\n",
       "      <td>True</td>\n",
       "      <td>BestinTheWorldThund3r</td>\n",
       "      <td>2014</td>\n",
       "      <td>2</td>\n",
       "    </tr>\n",
       "    <tr>\n",
       "      <th>4</th>\n",
       "      <td>10</td>\n",
       "      <td>True</td>\n",
       "      <td>76561198072207162</td>\n",
       "      <td>2014</td>\n",
       "      <td>2</td>\n",
       "    </tr>\n",
       "  </tbody>\n",
       "</table>\n",
       "</div>"
      ],
      "text/plain": [
       "  item_id  recommend                user_id  year  sentiment_analysis\n",
       "0      10       True      76561198040188061  2011                   2\n",
       "1      10       True              epic_doom  2013                   1\n",
       "2      10       True         mayshowganmore  2014                   2\n",
       "3      10       True  BestinTheWorldThund3r  2014                   2\n",
       "4      10       True      76561198072207162  2014                   2"
      ]
     },
     "execution_count": 39,
     "metadata": {},
     "output_type": "execute_result"
    }
   ],
   "source": [
    "# Mostrar las primeras filas para verificar los cambios\n",
    "df_reviews.head()"
   ]
  },
  {
   "cell_type": "markdown",
   "metadata": {},
   "source": [
    "Finalmente realizamos un conteo de cada valor único de la columna sentiment_analysis ('0', '1' y '2'), además de verificar si existe algún valor nulo"
   ]
  },
  {
   "cell_type": "code",
   "execution_count": 40,
   "metadata": {},
   "outputs": [
    {
     "name": "stdout",
     "output_type": "stream",
     "text": [
      "Conteo de valores únicos en 'sentiment_analysis':\n",
      "sentiment_analysis\n",
      "2    32237\n",
      "0     7617\n",
      "1     5231\n",
      "Name: count, dtype: int64\n",
      "\n",
      "Porcentaje de valores únicos en 'sentiment_analysis':\n",
      "sentiment_analysis\n",
      "2    71.502717\n",
      "0    16.894754\n",
      "1    11.602529\n",
      "Name: proportion, dtype: float64\n",
      "\n",
      "Cantidad de valores en blanco o nulos en 'sentiment_analysis': 0\n",
      "Porcentaje de valores en blanco o nulos en 'sentiment_analysis': 0.00%\n"
     ]
    }
   ],
   "source": [
    "# Calcular el conteo y el porcentaje de valores únicos en 'sentiment_analysis'\n",
    "sentiment_counts = df_reviews['sentiment_analysis'].value_counts()\n",
    "sentiment_percentages = df_reviews['sentiment_analysis'].value_counts(normalize=True) * 100\n",
    "\n",
    "# Calcular la cantidad y el porcentaje de valores en blanco o nulos\n",
    "null_values_count = df_reviews['sentiment_analysis'].isnull().sum()\n",
    "null_values_percentage = (null_values_count / len(df_reviews)) * 100\n",
    "\n",
    "# Mostrar los resultados\n",
    "print(\"Conteo de valores únicos en 'sentiment_analysis':\")\n",
    "print(sentiment_counts)\n",
    "print(\"\\nPorcentaje de valores únicos en 'sentiment_analysis':\")\n",
    "print(sentiment_percentages)\n",
    "print(f\"\\nCantidad de valores en blanco o nulos en 'sentiment_analysis': {null_values_count}\")\n",
    "print(f\"Porcentaje de valores en blanco o nulos en 'sentiment_analysis': {null_values_percentage:.2f}%\")\n"
   ]
  },
  {
   "cell_type": "markdown",
   "metadata": {},
   "source": [
    "## 6. Guardar el conjunto de datos limpio"
   ]
  },
  {
   "cell_type": "code",
   "execution_count": 41,
   "metadata": {},
   "outputs": [],
   "source": [
    "# Ruta para exportar el archivo CSV\n",
    "ruta_exportacion = \"../Data/Processed/Clean_data/user_reviews_cleaned.csv\"\n",
    "\n",
    "# Exportar el DataFrame a CSV\n",
    "df_reviews.to_csv(ruta_exportacion, index=False)\n"
   ]
  }
 ],
 "metadata": {
  "kernelspec": {
   "display_name": ".venv",
   "language": "python",
   "name": "python3"
  },
  "language_info": {
   "codemirror_mode": {
    "name": "ipython",
    "version": 3
   },
   "file_extension": ".py",
   "mimetype": "text/x-python",
   "name": "python",
   "nbconvert_exporter": "python",
   "pygments_lexer": "ipython3",
   "version": "3.11.4"
  }
 },
 "nbformat": 4,
 "nbformat_minor": 2
}
