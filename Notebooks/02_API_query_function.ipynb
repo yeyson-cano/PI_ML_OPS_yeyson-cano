{
 "cells": [
  {
   "cell_type": "markdown",
   "metadata": {},
   "source": [
    "### Importamos Librerías"
   ]
  },
  {
   "cell_type": "code",
   "execution_count": 1,
   "metadata": {},
   "outputs": [],
   "source": [
    "import pandas as pd"
   ]
  },
  {
   "cell_type": "markdown",
   "metadata": {},
   "source": [
    "### Importamos los Conjuntos de Datos para los Endpoints"
   ]
  },
  {
   "cell_type": "markdown",
   "metadata": {},
   "source": [
    "*Conjunto de Datos para Endpoint 1*"
   ]
  },
  {
   "cell_type": "code",
   "execution_count": 2,
   "metadata": {},
   "outputs": [
    {
     "data": {
      "text/html": [
       "<div>\n",
       "<style scoped>\n",
       "    .dataframe tbody tr th:only-of-type {\n",
       "        vertical-align: middle;\n",
       "    }\n",
       "\n",
       "    .dataframe tbody tr th {\n",
       "        vertical-align: top;\n",
       "    }\n",
       "\n",
       "    .dataframe thead th {\n",
       "        text-align: right;\n",
       "    }\n",
       "</style>\n",
       "<table border=\"1\" class=\"dataframe\">\n",
       "  <thead>\n",
       "    <tr style=\"text-align: right;\">\n",
       "      <th></th>\n",
       "      <th>developer</th>\n",
       "      <th>year</th>\n",
       "      <th>item_count</th>\n",
       "      <th>free_content_percentage</th>\n",
       "    </tr>\n",
       "  </thead>\n",
       "  <tbody>\n",
       "    <tr>\n",
       "      <th>0</th>\n",
       "      <td>+7 Software</td>\n",
       "      <td>2016</td>\n",
       "      <td>1</td>\n",
       "      <td>0.0</td>\n",
       "    </tr>\n",
       "    <tr>\n",
       "      <th>1</th>\n",
       "      <td>+Mpact Games, LLC.</td>\n",
       "      <td>2017</td>\n",
       "      <td>1</td>\n",
       "      <td>0.0</td>\n",
       "    </tr>\n",
       "    <tr>\n",
       "      <th>2</th>\n",
       "      <td>.M.Y.W.</td>\n",
       "      <td>2016</td>\n",
       "      <td>1</td>\n",
       "      <td>0.0</td>\n",
       "    </tr>\n",
       "    <tr>\n",
       "      <th>3</th>\n",
       "      <td>.ez Games</td>\n",
       "      <td>2017</td>\n",
       "      <td>1</td>\n",
       "      <td>0.0</td>\n",
       "    </tr>\n",
       "    <tr>\n",
       "      <th>4</th>\n",
       "      <td>07th Expansion</td>\n",
       "      <td>2015</td>\n",
       "      <td>2</td>\n",
       "      <td>0.0</td>\n",
       "    </tr>\n",
       "  </tbody>\n",
       "</table>\n",
       "</div>"
      ],
      "text/plain": [
       "            developer  year  item_count  free_content_percentage\n",
       "0         +7 Software  2016           1                      0.0\n",
       "1  +Mpact Games, LLC.  2017           1                      0.0\n",
       "2             .M.Y.W.  2016           1                      0.0\n",
       "3           .ez Games  2017           1                      0.0\n",
       "4      07th Expansion  2015           2                      0.0"
      ]
     },
     "execution_count": 2,
     "metadata": {},
     "output_type": "execute_result"
    }
   ],
   "source": [
    "# Ruta al archivo Parquet\n",
    "file_path = '../Data/Processed/API_data/ep1.parquet'\n",
    "\n",
    "# Importar el archivo Parquet como un DataFrame\n",
    "df_ep1 = pd.read_parquet(file_path)\n",
    "\n",
    "# Mostrar primeros 5 elementos\n",
    "df_ep1.head()"
   ]
  },
  {
   "cell_type": "markdown",
   "metadata": {},
   "source": [
    "*Conjunto de Datos para Endpoint 2*"
   ]
  },
  {
   "cell_type": "code",
   "execution_count": 3,
   "metadata": {},
   "outputs": [
    {
     "data": {
      "text/html": [
       "<div>\n",
       "<style scoped>\n",
       "    .dataframe tbody tr th:only-of-type {\n",
       "        vertical-align: middle;\n",
       "    }\n",
       "\n",
       "    .dataframe tbody tr th {\n",
       "        vertical-align: top;\n",
       "    }\n",
       "\n",
       "    .dataframe thead th {\n",
       "        text-align: right;\n",
       "    }\n",
       "</style>\n",
       "<table border=\"1\" class=\"dataframe\">\n",
       "  <thead>\n",
       "    <tr style=\"text-align: right;\">\n",
       "      <th></th>\n",
       "      <th>user_id</th>\n",
       "      <th>amount</th>\n",
       "      <th>recommendation_percentage</th>\n",
       "      <th>items_count</th>\n",
       "    </tr>\n",
       "  </thead>\n",
       "  <tbody>\n",
       "    <tr>\n",
       "      <th>0</th>\n",
       "      <td>--000--</td>\n",
       "      <td>402.77</td>\n",
       "      <td>0.00</td>\n",
       "      <td>58</td>\n",
       "    </tr>\n",
       "    <tr>\n",
       "      <th>1</th>\n",
       "      <td>--ace--</td>\n",
       "      <td>176.80</td>\n",
       "      <td>4.55</td>\n",
       "      <td>44</td>\n",
       "    </tr>\n",
       "    <tr>\n",
       "      <th>2</th>\n",
       "      <td>--ionex--</td>\n",
       "      <td>114.91</td>\n",
       "      <td>8.70</td>\n",
       "      <td>23</td>\n",
       "    </tr>\n",
       "    <tr>\n",
       "      <th>3</th>\n",
       "      <td>-2SV-vuLB-Kg</td>\n",
       "      <td>442.48</td>\n",
       "      <td>7.35</td>\n",
       "      <td>68</td>\n",
       "    </tr>\n",
       "    <tr>\n",
       "      <th>4</th>\n",
       "      <td>-404PageNotFound-</td>\n",
       "      <td>1549.27</td>\n",
       "      <td>0.00</td>\n",
       "      <td>149</td>\n",
       "    </tr>\n",
       "  </tbody>\n",
       "</table>\n",
       "</div>"
      ],
      "text/plain": [
       "             user_id   amount  recommendation_percentage  items_count\n",
       "0            --000--   402.77                       0.00           58\n",
       "1            --ace--   176.80                       4.55           44\n",
       "2          --ionex--   114.91                       8.70           23\n",
       "3       -2SV-vuLB-Kg   442.48                       7.35           68\n",
       "4  -404PageNotFound-  1549.27                       0.00          149"
      ]
     },
     "execution_count": 3,
     "metadata": {},
     "output_type": "execute_result"
    }
   ],
   "source": [
    "# Ruta al archivo Parquet\n",
    "file_path = '../Data/Processed/API_data/ep2.parquet'\n",
    "\n",
    "# Importar el archivo Parquet como un DataFrame\n",
    "df_ep2 = pd.read_parquet(file_path)\n",
    "\n",
    "# Mostrar primeros 5 elementos\n",
    "df_ep2.head()"
   ]
  },
  {
   "cell_type": "markdown",
   "metadata": {},
   "source": [
    "*Conjunto de Datos para Endpoint 3*"
   ]
  },
  {
   "cell_type": "code",
   "execution_count": 4,
   "metadata": {},
   "outputs": [
    {
     "data": {
      "text/html": [
       "<div>\n",
       "<style scoped>\n",
       "    .dataframe tbody tr th:only-of-type {\n",
       "        vertical-align: middle;\n",
       "    }\n",
       "\n",
       "    .dataframe tbody tr th {\n",
       "        vertical-align: top;\n",
       "    }\n",
       "\n",
       "    .dataframe thead th {\n",
       "        text-align: right;\n",
       "    }\n",
       "</style>\n",
       "<table border=\"1\" class=\"dataframe\">\n",
       "  <thead>\n",
       "    <tr style=\"text-align: right;\">\n",
       "      <th></th>\n",
       "      <th>genre</th>\n",
       "      <th>user_id</th>\n",
       "      <th>year</th>\n",
       "      <th>hours_year</th>\n",
       "    </tr>\n",
       "  </thead>\n",
       "  <tbody>\n",
       "    <tr>\n",
       "      <th>0</th>\n",
       "      <td>Strategy</td>\n",
       "      <td>shinomegami</td>\n",
       "      <td>1993</td>\n",
       "      <td>366.68</td>\n",
       "    </tr>\n",
       "    <tr>\n",
       "      <th>1</th>\n",
       "      <td>Strategy</td>\n",
       "      <td>shinomegami</td>\n",
       "      <td>1995</td>\n",
       "      <td>341.42</td>\n",
       "    </tr>\n",
       "    <tr>\n",
       "      <th>2</th>\n",
       "      <td>Strategy</td>\n",
       "      <td>shinomegami</td>\n",
       "      <td>1997</td>\n",
       "      <td>0.00</td>\n",
       "    </tr>\n",
       "    <tr>\n",
       "      <th>3</th>\n",
       "      <td>Strategy</td>\n",
       "      <td>shinomegami</td>\n",
       "      <td>1998</td>\n",
       "      <td>0.00</td>\n",
       "    </tr>\n",
       "    <tr>\n",
       "      <th>4</th>\n",
       "      <td>Strategy</td>\n",
       "      <td>shinomegami</td>\n",
       "      <td>1999</td>\n",
       "      <td>0.23</td>\n",
       "    </tr>\n",
       "  </tbody>\n",
       "</table>\n",
       "</div>"
      ],
      "text/plain": [
       "      genre      user_id  year  hours_year\n",
       "0  Strategy  shinomegami  1993      366.68\n",
       "1  Strategy  shinomegami  1995      341.42\n",
       "2  Strategy  shinomegami  1997        0.00\n",
       "3  Strategy  shinomegami  1998        0.00\n",
       "4  Strategy  shinomegami  1999        0.23"
      ]
     },
     "execution_count": 4,
     "metadata": {},
     "output_type": "execute_result"
    }
   ],
   "source": [
    "# Ruta al archivo Parquet\n",
    "file_path = '../Data/Processed/API_data/ep3.parquet'\n",
    "\n",
    "# Importar el archivo Parquet como un DataFrame\n",
    "df_ep3 = pd.read_parquet(file_path)\n",
    "\n",
    "# Mostrar primeros 5 elementos\n",
    "df_ep3.head()"
   ]
  },
  {
   "cell_type": "markdown",
   "metadata": {},
   "source": [
    "*Conjunto de Datos para Endpoint 4*"
   ]
  },
  {
   "cell_type": "code",
   "execution_count": 5,
   "metadata": {},
   "outputs": [
    {
     "data": {
      "text/html": [
       "<div>\n",
       "<style scoped>\n",
       "    .dataframe tbody tr th:only-of-type {\n",
       "        vertical-align: middle;\n",
       "    }\n",
       "\n",
       "    .dataframe tbody tr th {\n",
       "        vertical-align: top;\n",
       "    }\n",
       "\n",
       "    .dataframe thead th {\n",
       "        text-align: right;\n",
       "    }\n",
       "</style>\n",
       "<table border=\"1\" class=\"dataframe\">\n",
       "  <thead>\n",
       "    <tr style=\"text-align: right;\">\n",
       "      <th></th>\n",
       "      <th>year</th>\n",
       "      <th>developer</th>\n",
       "      <th>recommend_score</th>\n",
       "    </tr>\n",
       "  </thead>\n",
       "  <tbody>\n",
       "    <tr>\n",
       "      <th>0</th>\n",
       "      <td>2010</td>\n",
       "      <td>Valve</td>\n",
       "      <td>16</td>\n",
       "    </tr>\n",
       "    <tr>\n",
       "      <th>1</th>\n",
       "      <td>2010</td>\n",
       "      <td>Tripwire Interactive</td>\n",
       "      <td>3</td>\n",
       "    </tr>\n",
       "    <tr>\n",
       "      <th>2</th>\n",
       "      <td>2010</td>\n",
       "      <td>Sven Co-op Team</td>\n",
       "      <td>3</td>\n",
       "    </tr>\n",
       "    <tr>\n",
       "      <th>3</th>\n",
       "      <td>2011</td>\n",
       "      <td>Valve</td>\n",
       "      <td>107</td>\n",
       "    </tr>\n",
       "    <tr>\n",
       "      <th>4</th>\n",
       "      <td>2011</td>\n",
       "      <td>Tripwire Interactive</td>\n",
       "      <td>15</td>\n",
       "    </tr>\n",
       "  </tbody>\n",
       "</table>\n",
       "</div>"
      ],
      "text/plain": [
       "   year             developer  recommend_score\n",
       "0  2010                 Valve               16\n",
       "1  2010  Tripwire Interactive                3\n",
       "2  2010       Sven Co-op Team                3\n",
       "3  2011                 Valve              107\n",
       "4  2011  Tripwire Interactive               15"
      ]
     },
     "execution_count": 5,
     "metadata": {},
     "output_type": "execute_result"
    }
   ],
   "source": [
    "# Ruta al archivo Parquet\n",
    "file_path = '../Data/Processed/API_data/ep4.parquet'\n",
    "\n",
    "# Importar el archivo Parquet como un DataFrame\n",
    "df_ep4 = pd.read_parquet(file_path)\n",
    "\n",
    "# Mostrar primeros 5 elementos\n",
    "df_ep4.head()"
   ]
  },
  {
   "cell_type": "markdown",
   "metadata": {},
   "source": [
    "*Conjunto de Datos para Endpoint 5*"
   ]
  },
  {
   "cell_type": "code",
   "execution_count": 6,
   "metadata": {},
   "outputs": [
    {
     "data": {
      "text/html": [
       "<div>\n",
       "<style scoped>\n",
       "    .dataframe tbody tr th:only-of-type {\n",
       "        vertical-align: middle;\n",
       "    }\n",
       "\n",
       "    .dataframe tbody tr th {\n",
       "        vertical-align: top;\n",
       "    }\n",
       "\n",
       "    .dataframe thead th {\n",
       "        text-align: right;\n",
       "    }\n",
       "</style>\n",
       "<table border=\"1\" class=\"dataframe\">\n",
       "  <thead>\n",
       "    <tr style=\"text-align: right;\">\n",
       "      <th></th>\n",
       "      <th>developer</th>\n",
       "      <th>positive_reviews</th>\n",
       "      <th>negative_reviews</th>\n",
       "    </tr>\n",
       "  </thead>\n",
       "  <tbody>\n",
       "    <tr>\n",
       "      <th>0</th>\n",
       "      <td>+7 Software</td>\n",
       "      <td>0</td>\n",
       "      <td>0</td>\n",
       "    </tr>\n",
       "    <tr>\n",
       "      <th>1</th>\n",
       "      <td>+Mpact Games, LLC.</td>\n",
       "      <td>0</td>\n",
       "      <td>0</td>\n",
       "    </tr>\n",
       "    <tr>\n",
       "      <th>2</th>\n",
       "      <td>.M.Y.W.</td>\n",
       "      <td>0</td>\n",
       "      <td>0</td>\n",
       "    </tr>\n",
       "    <tr>\n",
       "      <th>3</th>\n",
       "      <td>.ez Games</td>\n",
       "      <td>0</td>\n",
       "      <td>0</td>\n",
       "    </tr>\n",
       "    <tr>\n",
       "      <th>4</th>\n",
       "      <td>07th Expansion</td>\n",
       "      <td>0</td>\n",
       "      <td>1</td>\n",
       "    </tr>\n",
       "  </tbody>\n",
       "</table>\n",
       "</div>"
      ],
      "text/plain": [
       "            developer  positive_reviews  negative_reviews\n",
       "0         +7 Software                 0                 0\n",
       "1  +Mpact Games, LLC.                 0                 0\n",
       "2             .M.Y.W.                 0                 0\n",
       "3           .ez Games                 0                 0\n",
       "4      07th Expansion                 0                 1"
      ]
     },
     "execution_count": 6,
     "metadata": {},
     "output_type": "execute_result"
    }
   ],
   "source": [
    "# Ruta al archivo Parquet\n",
    "file_path = '../Data/Processed/API_data/ep5.parquet'\n",
    "\n",
    "# Importar el archivo Parquet como un DataFrame\n",
    "df_ep5 = pd.read_parquet(file_path)\n",
    "\n",
    "# Mostrar primeros 5 elementos\n",
    "df_ep5.head()"
   ]
  },
  {
   "cell_type": "markdown",
   "metadata": {},
   "source": [
    "## 1. Endpoint 1"
   ]
  },
  {
   "cell_type": "code",
   "execution_count": 7,
   "metadata": {},
   "outputs": [],
   "source": [
    "def developer_info(df: pd.DataFrame, desarrollador: str):\n",
    "    \"\"\"\n",
    "    Retorna la cantidad de items y porcentaje de contenido gratuito por año según empresa desarrolladora.\n",
    "\n",
    "    Args:\n",
    "    - df (pandas.DataFrame): El DataFrame que contiene los datos.\n",
    "    - desarrollador (str): El nombre del desarrollador para el cual se desea obtener la información.\n",
    "\n",
    "    Returns:\n",
    "    - dict: Un diccionario con la información del desarrollador.\n",
    "    \"\"\"\n",
    "    retorno = {}\n",
    "    \n",
    "    # Filtrar los datos por el desarrollador dado\n",
    "    df_desarrollador = df[df['developer'] == desarrollador]\n",
    "\n",
    "    # Agrupar por desarrollador y año, contar la cantidad de items desarrollados y gratuitos\n",
    "    items_por_año = df_desarrollador.groupby('year').agg(\n",
    "        items_per_year=('item_count', 'sum'),\n",
    "        free_content_per_year=('free_content_percentage', 'mean')\n",
    "    ).reset_index()\n",
    "\n",
    "    # Convertir el porcentaje de contenido gratuito a formato de cadena con símbolo de porcentaje\n",
    "    items_por_año['free_content_per_year'] = items_por_año['free_content_per_year'].apply(lambda x: f\"{x:.0f}%\")\n",
    "\n",
    "    # Crear el diccionario de retorno\n",
    "    retorno = {\n",
    "        \"developer\": desarrollador,\n",
    "        \"items_per_year\": dict(zip(items_por_año['year'].astype(str), items_por_año['items_per_year'])),\n",
    "        \"free_content_per_year\": dict(zip(items_por_año['year'].astype(str), items_por_año['free_content_per_year']))\n",
    "    }\n",
    "\n",
    "    return retorno\n"
   ]
  },
  {
   "cell_type": "code",
   "execution_count": 8,
   "metadata": {},
   "outputs": [
    {
     "name": "stdout",
     "output_type": "stream",
     "text": [
      "{'developer': 'Valve', 'items_per_year': {'1998': 1, '1999': 1, '2000': 2, '2001': 1, '2003': 1, '2004': 5, '2005': 1, '2006': 2, '2007': 3, '2008': 1, '2009': 1, '2010': 2, '2011': 1, '2012': 2, '2014': 7, '2016': 1, '2017': 2}, 'free_content_per_year': {'1998': '0%', '1999': '0%', '2000': '0%', '2001': '0%', '2003': '0%', '2004': '0%', '2005': '0%', '2006': '0%', '2007': '33%', '2008': '0%', '2009': '0%', '2010': '50%', '2011': '0%', '2012': '0%', '2014': '0%', '2016': '100%', '2017': '0%'}}\n"
     ]
    }
   ],
   "source": [
    "# Probamos la función con el DataFrame de ejemplo\n",
    "developer = 'Valve'\n",
    "resultado = developer_info(df_ep1, developer)\n",
    "print(resultado)"
   ]
  },
  {
   "cell_type": "markdown",
   "metadata": {},
   "source": [
    "## 2. Endpoint 2"
   ]
  },
  {
   "cell_type": "code",
   "execution_count": 9,
   "metadata": {},
   "outputs": [],
   "source": [
    "def userdata(df, user_id):\n",
    "    \"\"\"\n",
    "    Retorna la cantidad de dinero gastado por el usuario, el porcentaje de recomendación\n",
    "    basado en las revisiones y la cantidad de items para el usuario dado.\n",
    "    \n",
    "    Args:\n",
    "    - df (pandas.DataFrame): El DataFrame que contiene los datos.\n",
    "    - user_id (str): El ID del usuario para el cual se desea obtener la información.\n",
    "    \n",
    "    Returns:\n",
    "    - dict: Un diccionario con la información del usuario.\n",
    "    \"\"\"\n",
    "    user_data = {}\n",
    "    \n",
    "    # Filtrar los datos del usuario dado\n",
    "    user_data['User_id'] = user_id\n",
    "    user_info = df[df['user_id'] == user_id]\n",
    "    \n",
    "    # Calcular la cantidad de dinero gastado por el usuario\n",
    "    amount_spent = user_info['amount'].sum()\n",
    "    user_data['Dinero gastado'] = f\"${amount_spent}\"\n",
    "    \n",
    "    # Calcular el porcentaje de recomendación\n",
    "    recommendation_percentage = user_info['recommendation_percentage'].iloc[0]  # asumiendo que es el mismo para todos los registros del usuario\n",
    "    user_data['% de recomendación'] = f\"{recommendation_percentage}%\"\n",
    "    \n",
    "    # Calcular la cantidad de items del usuario\n",
    "    items_count = user_info['items_count'].iloc[0]  # asumiendo que es el mismo para todos los registros del usuario\n",
    "    user_data['cantidad de items'] = items_count\n",
    "    \n",
    "    return user_data\n"
   ]
  },
  {
   "cell_type": "code",
   "execution_count": 10,
   "metadata": {},
   "outputs": [
    {
     "name": "stdout",
     "output_type": "stream",
     "text": [
      "Información del usuario:\n",
      "{'User_id': 'nottynotty', 'Dinero gastado': '$299.75', '% de recomendación': '4.65%', 'cantidad de items': 43}\n"
     ]
    }
   ],
   "source": [
    "# Probar la función userdata con un usuario específico\n",
    "user_id = 'nottynotty'\n",
    "user_info = userdata(df_ep2, user_id)\n",
    "print(\"Información del usuario:\")\n",
    "print(user_info)"
   ]
  },
  {
   "cell_type": "markdown",
   "metadata": {},
   "source": [
    "## 3. Endpoint 3"
   ]
  },
  {
   "cell_type": "code",
   "execution_count": 11,
   "metadata": {},
   "outputs": [],
   "source": [
    "def UserForGenre(dataframe, genero: str):\n",
    "    \"\"\"\n",
    "    Devuelve el usuario que acumula más horas jugadas para el género dado\n",
    "    y una lista de la acumulación de horas jugadas por año de lanzamiento.\n",
    "\n",
    "    Parameters:\n",
    "    - dataframe (DataFrame): El DataFrame que contiene los datos de los juegos.\n",
    "    - genero (str): El género para el que se desea obtener la información.\n",
    "\n",
    "    Returns:\n",
    "    - dict: Un diccionario con el usuario que acumula más horas jugadas para el género dado\n",
    "            y una lista de la acumulación de horas jugadas por año.\n",
    "            Ejemplo de retorno: {\n",
    "                \"Usuario con más horas jugadas para Género X\": user_id,\n",
    "                \"Horas jugadas\": [{\"Año\": 2010, \"Horas\": 300}, {\"Año\": 2011, \"Horas\": 500}]\n",
    "            }\n",
    "    \"\"\"\n",
    "    # Filtrar el DataFrame por el género deseado\n",
    "    df_genero = dataframe[dataframe['genre'] == genero]\n",
    "\n",
    "    # Verificar si no hay datos para el género dado\n",
    "    if df_genero.empty:\n",
    "        return f\"No hay datos disponibles para el género '{genero}'\"\n",
    "\n",
    "    # Encontrar el usuario con más horas jugadas para el género dado\n",
    "    usuario_con_mas_horas = df_genero.groupby('user_id')['hours_year'].sum().idxmax()\n",
    "\n",
    "    # Calcular las horas jugadas por año para el usuario encontrado\n",
    "    horas_por_anio = df_genero[df_genero['user_id'] == usuario_con_mas_horas].groupby('year')['hours_year'].sum()\n",
    "\n",
    "    # Crear el diccionario de salida\n",
    "    output_dict = {\n",
    "        \"Usuario con más horas jugadas para Género X\": usuario_con_mas_horas,\n",
    "        \"Horas jugadas\": [{\"Año\": anio, \"Horas\": horas} for anio, horas in horas_por_anio.items()]\n",
    "    }\n",
    "\n",
    "    return output_dict"
   ]
  },
  {
   "cell_type": "code",
   "execution_count": 12,
   "metadata": {},
   "outputs": [
    {
     "data": {
      "text/plain": [
       "{'Usuario con más horas jugadas para Género X': 'Sp3ctre',\n",
       " 'Horas jugadas': [{'Año': 1993, 'Horas': 0.0},\n",
       "  {'Año': 1995, 'Horas': 3.62},\n",
       "  {'Año': 1996, 'Horas': 0.0},\n",
       "  {'Año': 1997, 'Horas': 4.03},\n",
       "  {'Año': 1998, 'Horas': 0.0},\n",
       "  {'Año': 1999, 'Horas': 0.73},\n",
       "  {'Año': 2000, 'Horas': 1177.4},\n",
       "  {'Año': 2001, 'Horas': 4.17},\n",
       "  {'Año': 2002, 'Horas': 3.97},\n",
       "  {'Año': 2003, 'Horas': 129.06},\n",
       "  {'Año': 2004, 'Horas': 2123.51},\n",
       "  {'Año': 2005, 'Horas': 355.65},\n",
       "  {'Año': 2006, 'Horas': 1504.22},\n",
       "  {'Año': 2007, 'Horas': 1879.91},\n",
       "  {'Año': 2008, 'Horas': 142.20999999999998},\n",
       "  {'Año': 2009, 'Horas': 1812.8600000000001},\n",
       "  {'Año': 2010, 'Horas': 1379.44},\n",
       "  {'Año': 2011, 'Horas': 2590.97},\n",
       "  {'Año': 2012, 'Horas': 6424.42},\n",
       "  {'Año': 2013, 'Horas': 2035.97},\n",
       "  {'Año': 2014, 'Horas': 2214.38},\n",
       "  {'Año': 2015, 'Horas': 6488.58},\n",
       "  {'Año': 2016, 'Horas': 1996.6200000000001},\n",
       "  {'Año': 2017, 'Horas': 722.12}]}"
      ]
     },
     "execution_count": 12,
     "metadata": {},
     "output_type": "execute_result"
    }
   ],
   "source": [
    "genero_deseado = \"Action\"\n",
    "UserForGenre(df_ep3, genero_deseado)\n"
   ]
  },
  {
   "cell_type": "markdown",
   "metadata": {},
   "source": [
    "## 4. Endpoint 4"
   ]
  },
  {
   "cell_type": "code",
   "execution_count": 13,
   "metadata": {},
   "outputs": [],
   "source": [
    "def best_developer_year(dataframe, anio: int):\n",
    "    \"\"\"\n",
    "    Obtiene el top 3 de desarrolladores con juegos más recomendados por usuarios para el año dado.\n",
    "\n",
    "    Parameters:\n",
    "    - dataframe (DataFrame): El DataFrame que contiene los datos de los juegos y las reviews.\n",
    "    - año (int): El año para el que se desea obtener el top 3 de desarrolladores.\n",
    "\n",
    "    Returns:\n",
    "    - list: Una lista de diccionarios con el puesto y el nombre de los desarrolladores más recomendados.\n",
    "            Ejemplo de retorno: [{\"Puesto 1\" : X}, {\"Puesto 2\" : Y},{\"Puesto 3\" : Z}]\n",
    "    \"\"\"\n",
    "    # Filtrar el DataFrame por el año dado\n",
    "    df_year = dataframe[dataframe['year'] == anio]\n",
    "\n",
    "    # Obtener los 3 mejores desarrolladores para el año dado\n",
    "    top_developers = df_year.groupby('developer')['recommend_score'].sum().nlargest(3)\n",
    "\n",
    "    # Crear la lista de salida\n",
    "    output_list = []\n",
    "    for puesto, (developer, score) in enumerate(top_developers.items(), start=1):\n",
    "        output_list.append({f'Puesto {puesto}': developer})\n",
    "\n",
    "    return output_list"
   ]
  },
  {
   "cell_type": "code",
   "execution_count": 14,
   "metadata": {},
   "outputs": [
    {
     "data": {
      "text/plain": [
       "[{'Puesto 1': 'Valve'},\n",
       " {'Puesto 2': 'Facepunch Studios'},\n",
       " {'Puesto 3': 'Bohemia Interactive'}]"
      ]
     },
     "execution_count": 14,
     "metadata": {},
     "output_type": "execute_result"
    }
   ],
   "source": [
    "año_deseado = 2014\n",
    "best_developer_year(df_ep4, año_deseado)\n"
   ]
  },
  {
   "cell_type": "markdown",
   "metadata": {},
   "source": [
    "## 5. Endpoint 5"
   ]
  },
  {
   "cell_type": "code",
   "execution_count": 15,
   "metadata": {},
   "outputs": [],
   "source": [
    "def developer_reviews_analysis(dataframe, desarrolladora: str):\n",
    "    \"\"\"\n",
    "    Realiza un análisis de las reseñas de un desarrollador específico.\n",
    "\n",
    "    Parameters:\n",
    "    - dataframe (DataFrame): El DataFrame que contiene los datos de las reseñas.\n",
    "    - desarrolladora (str): El nombre del desarrollador a analizar.\n",
    "\n",
    "    Returns:\n",
    "    - dict: Un diccionario con el nombre del desarrollador como llave y una lista\n",
    "            con la cantidad total de registros de reseñas de usuarios categorizados\n",
    "            con un análisis de sentimiento como valor positivo o negativo.\n",
    "            Ejemplo de retorno: {'Valve': {'Negative': 182, 'Positive': 278}}\n",
    "    \"\"\"\n",
    "    # Filtrar el DataFrame para obtener las reseñas del desarrollador especificado\n",
    "    desarrolladora_df = dataframe[dataframe['developer'] == desarrolladora]\n",
    "\n",
    "    # Calcular la cantidad total de registros de reseñas positivas y negativas\n",
    "    total_positivas = desarrolladora_df['positive_reviews'].sum()\n",
    "    total_negativas = desarrolladora_df['negative_reviews'].sum()\n",
    "\n",
    "    # Crear el diccionario de resultados\n",
    "    resultado = {desarrolladora: {'Positive': total_positivas, 'Negative': total_negativas}}\n",
    "\n",
    "    return resultado\n"
   ]
  },
  {
   "cell_type": "code",
   "execution_count": 16,
   "metadata": {},
   "outputs": [
    {
     "data": {
      "text/plain": [
       "{'Valve': {'Positive': 4753, 'Negative': 889}}"
      ]
     },
     "execution_count": 16,
     "metadata": {},
     "output_type": "execute_result"
    }
   ],
   "source": [
    "developer_reviews_analysis(df_ep5, \"Valve\")"
   ]
  }
 ],
 "metadata": {
  "kernelspec": {
   "display_name": ".venv",
   "language": "python",
   "name": "python3"
  },
  "language_info": {
   "codemirror_mode": {
    "name": "ipython",
    "version": 3
   },
   "file_extension": ".py",
   "mimetype": "text/x-python",
   "name": "python",
   "nbconvert_exporter": "python",
   "pygments_lexer": "ipython3",
   "version": "3.11.4"
  }
 },
 "nbformat": 4,
 "nbformat_minor": 2
}
