{
 "cells": [
  {
   "cell_type": "markdown",
   "metadata": {},
   "source": [
    "# Notebook ETL_steam_games\n",
    "\n",
    "Este notebook tiene como objetivo realizar las tareas de Extracción, Transformación y Carga (ETL) de los datos del archivo steam_games.json.gz."
   ]
  },
  {
   "cell_type": "markdown",
   "metadata": {},
   "source": [
    "## 1. Importamos librerías"
   ]
  },
  {
   "cell_type": "code",
   "execution_count": 1,
   "metadata": {},
   "outputs": [],
   "source": [
    "# Importamos pandas para la manipulación y análisis de datos tabulares\n",
    "import pandas as pd\n",
    "\n",
    "# Importamos numpy para operaciones numéricas eficientes y manipulación de matrices\n",
    "import numpy as np\n",
    "\n",
    "# Importamos gzip para trabajar con archivos comprimidos en formato gzip\n",
    "import gzip\n",
    "\n",
    "# Importamos json para trabajar con datos en formato JSON\n",
    "import json\n",
    "\n",
    "# Importamos ast (Abstract Syntax Trees) para análisis sintáctico y evaluación de expresiones Python\n",
    "import ast\n",
    "\n",
    "# Importamos os para interactuar con el sistema operativo y manipular archivos y directorios\n",
    "import os\n",
    "\n",
    "# %load_ext autoreload y %autoreload 2 se utilizan para recargar automáticamente los módulos importados\n",
    "# Esto es útil cuando estamos desarrollando y queremos que los cambios realizados en un módulo se reflejen automáticamente\n",
    "%load_ext autoreload\n",
    "%autoreload 2\n",
    "\n",
    "# Importamos warnings para controlar las advertencias que pueden surgir durante la ejecución del código\n",
    "import warnings\n",
    "warnings.filterwarnings(\"ignore\")  # Ignoramos las advertencias para mantener el flujo de trabajo limpio\n"
   ]
  },
  {
   "cell_type": "markdown",
   "metadata": {},
   "source": [
    "Ahora continuamos con los pasos del proceso ETL."
   ]
  },
  {
   "cell_type": "markdown",
   "metadata": {},
   "source": [
    "## 2. Carga de los conjuntos de datos"
   ]
  },
  {
   "cell_type": "markdown",
   "metadata": {},
   "source": [
    "En esta fase del proceso ETL, se lleva a cabo la extracción de datos desde un archivo comprimido en formato *gzip*. El archivo **steam_games.json.gz** contiene información relevante sobre los juegos de la plataforma Steam.\n",
    "\n",
    "Archivo origen: **steam_games.json.gz** (Ubicado en *Data\\Raw\\steam_games.json.gz*)"
   ]
  },
  {
   "cell_type": "code",
   "execution_count": 2,
   "metadata": {},
   "outputs": [],
   "source": [
    "# Ruta al archivo gzip comprimido\n",
    "ruta_games = '../Data/Raw/steam_games.json.gz'\n",
    "\n",
    "# Lista para almacenar las filas de datos descomprimidos\n",
    "filas_games = []\n",
    "\n",
    "# Se lee cada línea del archivo gzip y se descomprime\n",
    "with gzip.open(ruta_games) as f:\n",
    "    for line in f.readlines():\n",
    "        # Se carga la línea descomprimida como un diccionario JSON\n",
    "        data = json.loads(line)\n",
    "        # Se agrega el diccionario a la lista de filas\n",
    "        filas_games.append(data)\n",
    "\n",
    "# Se convierte la lista de diccionarios en un DataFrame de pandas\n",
    "df_games = pd.DataFrame(filas_games)\n"
   ]
  },
  {
   "cell_type": "markdown",
   "metadata": {},
   "source": [
    "## 3. Exploración del conjunto de datos"
   ]
  },
  {
   "cell_type": "markdown",
   "metadata": {},
   "source": [
    "En esta sección, se realizará una exploración inicial del dataset de Steam Games. Este dataset contiene información sobre los juegos disponibles en la plataforma Steam, incluyendo detalles como el nombre del juego, el género, las etiquetas, la descripción, entre otros.\n",
    "\n",
    "El objetivo de esta exploración es comprender la estructura y las características del dataset, identificar posibles patrones y tendencias, y obtener información relevante para el análisis posterior."
   ]
  },
  {
   "cell_type": "code",
   "execution_count": 3,
   "metadata": {},
   "outputs": [
    {
     "data": {
      "text/html": [
       "<div>\n",
       "<style scoped>\n",
       "    .dataframe tbody tr th:only-of-type {\n",
       "        vertical-align: middle;\n",
       "    }\n",
       "\n",
       "    .dataframe tbody tr th {\n",
       "        vertical-align: top;\n",
       "    }\n",
       "\n",
       "    .dataframe thead th {\n",
       "        text-align: right;\n",
       "    }\n",
       "</style>\n",
       "<table border=\"1\" class=\"dataframe\">\n",
       "  <thead>\n",
       "    <tr style=\"text-align: right;\">\n",
       "      <th></th>\n",
       "      <th>publisher</th>\n",
       "      <th>genres</th>\n",
       "      <th>app_name</th>\n",
       "      <th>title</th>\n",
       "      <th>url</th>\n",
       "      <th>release_date</th>\n",
       "      <th>tags</th>\n",
       "      <th>reviews_url</th>\n",
       "      <th>specs</th>\n",
       "      <th>price</th>\n",
       "      <th>early_access</th>\n",
       "      <th>id</th>\n",
       "      <th>developer</th>\n",
       "    </tr>\n",
       "  </thead>\n",
       "  <tbody>\n",
       "    <tr>\n",
       "      <th>0</th>\n",
       "      <td>NaN</td>\n",
       "      <td>NaN</td>\n",
       "      <td>NaN</td>\n",
       "      <td>NaN</td>\n",
       "      <td>NaN</td>\n",
       "      <td>NaN</td>\n",
       "      <td>NaN</td>\n",
       "      <td>NaN</td>\n",
       "      <td>NaN</td>\n",
       "      <td>NaN</td>\n",
       "      <td>NaN</td>\n",
       "      <td>NaN</td>\n",
       "      <td>NaN</td>\n",
       "    </tr>\n",
       "    <tr>\n",
       "      <th>1</th>\n",
       "      <td>NaN</td>\n",
       "      <td>NaN</td>\n",
       "      <td>NaN</td>\n",
       "      <td>NaN</td>\n",
       "      <td>NaN</td>\n",
       "      <td>NaN</td>\n",
       "      <td>NaN</td>\n",
       "      <td>NaN</td>\n",
       "      <td>NaN</td>\n",
       "      <td>NaN</td>\n",
       "      <td>NaN</td>\n",
       "      <td>NaN</td>\n",
       "      <td>NaN</td>\n",
       "    </tr>\n",
       "    <tr>\n",
       "      <th>2</th>\n",
       "      <td>NaN</td>\n",
       "      <td>NaN</td>\n",
       "      <td>NaN</td>\n",
       "      <td>NaN</td>\n",
       "      <td>NaN</td>\n",
       "      <td>NaN</td>\n",
       "      <td>NaN</td>\n",
       "      <td>NaN</td>\n",
       "      <td>NaN</td>\n",
       "      <td>NaN</td>\n",
       "      <td>NaN</td>\n",
       "      <td>NaN</td>\n",
       "      <td>NaN</td>\n",
       "    </tr>\n",
       "    <tr>\n",
       "      <th>3</th>\n",
       "      <td>NaN</td>\n",
       "      <td>NaN</td>\n",
       "      <td>NaN</td>\n",
       "      <td>NaN</td>\n",
       "      <td>NaN</td>\n",
       "      <td>NaN</td>\n",
       "      <td>NaN</td>\n",
       "      <td>NaN</td>\n",
       "      <td>NaN</td>\n",
       "      <td>NaN</td>\n",
       "      <td>NaN</td>\n",
       "      <td>NaN</td>\n",
       "      <td>NaN</td>\n",
       "    </tr>\n",
       "    <tr>\n",
       "      <th>4</th>\n",
       "      <td>NaN</td>\n",
       "      <td>NaN</td>\n",
       "      <td>NaN</td>\n",
       "      <td>NaN</td>\n",
       "      <td>NaN</td>\n",
       "      <td>NaN</td>\n",
       "      <td>NaN</td>\n",
       "      <td>NaN</td>\n",
       "      <td>NaN</td>\n",
       "      <td>NaN</td>\n",
       "      <td>NaN</td>\n",
       "      <td>NaN</td>\n",
       "      <td>NaN</td>\n",
       "    </tr>\n",
       "  </tbody>\n",
       "</table>\n",
       "</div>"
      ],
      "text/plain": [
       "  publisher genres app_name title  url release_date tags reviews_url specs  \\\n",
       "0       NaN    NaN      NaN   NaN  NaN          NaN  NaN         NaN   NaN   \n",
       "1       NaN    NaN      NaN   NaN  NaN          NaN  NaN         NaN   NaN   \n",
       "2       NaN    NaN      NaN   NaN  NaN          NaN  NaN         NaN   NaN   \n",
       "3       NaN    NaN      NaN   NaN  NaN          NaN  NaN         NaN   NaN   \n",
       "4       NaN    NaN      NaN   NaN  NaN          NaN  NaN         NaN   NaN   \n",
       "\n",
       "  price early_access   id developer  \n",
       "0   NaN          NaN  NaN       NaN  \n",
       "1   NaN          NaN  NaN       NaN  \n",
       "2   NaN          NaN  NaN       NaN  \n",
       "3   NaN          NaN  NaN       NaN  \n",
       "4   NaN          NaN  NaN       NaN  "
      ]
     },
     "execution_count": 3,
     "metadata": {},
     "output_type": "execute_result"
    }
   ],
   "source": [
    "# Se muestran los 5 primeros elementos del DataFrame resultante\n",
    "df_games.head()\n"
   ]
  },
  {
   "cell_type": "markdown",
   "metadata": {},
   "source": [
    "Dado que los primeros 5 elementos del dataset están vacíos, procedemos a probar con los últimos"
   ]
  },
  {
   "cell_type": "code",
   "execution_count": 4,
   "metadata": {},
   "outputs": [
    {
     "data": {
      "text/html": [
       "<div>\n",
       "<style scoped>\n",
       "    .dataframe tbody tr th:only-of-type {\n",
       "        vertical-align: middle;\n",
       "    }\n",
       "\n",
       "    .dataframe tbody tr th {\n",
       "        vertical-align: top;\n",
       "    }\n",
       "\n",
       "    .dataframe thead th {\n",
       "        text-align: right;\n",
       "    }\n",
       "</style>\n",
       "<table border=\"1\" class=\"dataframe\">\n",
       "  <thead>\n",
       "    <tr style=\"text-align: right;\">\n",
       "      <th></th>\n",
       "      <th>publisher</th>\n",
       "      <th>genres</th>\n",
       "      <th>app_name</th>\n",
       "      <th>title</th>\n",
       "      <th>url</th>\n",
       "      <th>release_date</th>\n",
       "      <th>tags</th>\n",
       "      <th>reviews_url</th>\n",
       "      <th>specs</th>\n",
       "      <th>price</th>\n",
       "      <th>early_access</th>\n",
       "      <th>id</th>\n",
       "      <th>developer</th>\n",
       "    </tr>\n",
       "  </thead>\n",
       "  <tbody>\n",
       "    <tr>\n",
       "      <th>120440</th>\n",
       "      <td>Ghost_RUS Games</td>\n",
       "      <td>[Casual, Indie, Simulation, Strategy]</td>\n",
       "      <td>Colony On Mars</td>\n",
       "      <td>Colony On Mars</td>\n",
       "      <td>http://store.steampowered.com/app/773640/Colon...</td>\n",
       "      <td>2018-01-04</td>\n",
       "      <td>[Strategy, Indie, Casual, Simulation]</td>\n",
       "      <td>http://steamcommunity.com/app/773640/reviews/?...</td>\n",
       "      <td>[Single-player, Steam Achievements]</td>\n",
       "      <td>1.99</td>\n",
       "      <td>False</td>\n",
       "      <td>773640</td>\n",
       "      <td>Nikita \"Ghost_RUS\"</td>\n",
       "    </tr>\n",
       "    <tr>\n",
       "      <th>120441</th>\n",
       "      <td>Sacada</td>\n",
       "      <td>[Casual, Indie, Strategy]</td>\n",
       "      <td>LOGistICAL: South Africa</td>\n",
       "      <td>LOGistICAL: South Africa</td>\n",
       "      <td>http://store.steampowered.com/app/733530/LOGis...</td>\n",
       "      <td>2018-01-04</td>\n",
       "      <td>[Strategy, Indie, Casual]</td>\n",
       "      <td>http://steamcommunity.com/app/733530/reviews/?...</td>\n",
       "      <td>[Single-player, Steam Achievements, Steam Clou...</td>\n",
       "      <td>4.99</td>\n",
       "      <td>False</td>\n",
       "      <td>733530</td>\n",
       "      <td>Sacada</td>\n",
       "    </tr>\n",
       "    <tr>\n",
       "      <th>120442</th>\n",
       "      <td>Laush Studio</td>\n",
       "      <td>[Indie, Racing, Simulation]</td>\n",
       "      <td>Russian Roads</td>\n",
       "      <td>Russian Roads</td>\n",
       "      <td>http://store.steampowered.com/app/610660/Russi...</td>\n",
       "      <td>2018-01-04</td>\n",
       "      <td>[Indie, Simulation, Racing]</td>\n",
       "      <td>http://steamcommunity.com/app/610660/reviews/?...</td>\n",
       "      <td>[Single-player, Steam Achievements, Steam Trad...</td>\n",
       "      <td>1.99</td>\n",
       "      <td>False</td>\n",
       "      <td>610660</td>\n",
       "      <td>Laush Dmitriy Sergeevich</td>\n",
       "    </tr>\n",
       "    <tr>\n",
       "      <th>120443</th>\n",
       "      <td>SIXNAILS</td>\n",
       "      <td>[Casual, Indie]</td>\n",
       "      <td>EXIT 2 - Directions</td>\n",
       "      <td>EXIT 2 - Directions</td>\n",
       "      <td>http://store.steampowered.com/app/658870/EXIT_...</td>\n",
       "      <td>2017-09-02</td>\n",
       "      <td>[Indie, Casual, Puzzle, Singleplayer, Atmosphe...</td>\n",
       "      <td>http://steamcommunity.com/app/658870/reviews/?...</td>\n",
       "      <td>[Single-player, Steam Achievements, Steam Cloud]</td>\n",
       "      <td>4.99</td>\n",
       "      <td>False</td>\n",
       "      <td>658870</td>\n",
       "      <td>xropi,stev3ns</td>\n",
       "    </tr>\n",
       "    <tr>\n",
       "      <th>120444</th>\n",
       "      <td>NaN</td>\n",
       "      <td>NaN</td>\n",
       "      <td>Maze Run VR</td>\n",
       "      <td>NaN</td>\n",
       "      <td>http://store.steampowered.com/app/681550/Maze_...</td>\n",
       "      <td>NaN</td>\n",
       "      <td>[Early Access, Adventure, Indie, Action, Simul...</td>\n",
       "      <td>http://steamcommunity.com/app/681550/reviews/?...</td>\n",
       "      <td>[Single-player, Stats, Steam Leaderboards, HTC...</td>\n",
       "      <td>4.99</td>\n",
       "      <td>True</td>\n",
       "      <td>681550</td>\n",
       "      <td>NaN</td>\n",
       "    </tr>\n",
       "  </tbody>\n",
       "</table>\n",
       "</div>"
      ],
      "text/plain": [
       "              publisher                                 genres  \\\n",
       "120440  Ghost_RUS Games  [Casual, Indie, Simulation, Strategy]   \n",
       "120441           Sacada              [Casual, Indie, Strategy]   \n",
       "120442     Laush Studio            [Indie, Racing, Simulation]   \n",
       "120443         SIXNAILS                        [Casual, Indie]   \n",
       "120444              NaN                                    NaN   \n",
       "\n",
       "                        app_name                     title  \\\n",
       "120440            Colony On Mars            Colony On Mars   \n",
       "120441  LOGistICAL: South Africa  LOGistICAL: South Africa   \n",
       "120442             Russian Roads             Russian Roads   \n",
       "120443       EXIT 2 - Directions       EXIT 2 - Directions   \n",
       "120444               Maze Run VR                       NaN   \n",
       "\n",
       "                                                      url release_date  \\\n",
       "120440  http://store.steampowered.com/app/773640/Colon...   2018-01-04   \n",
       "120441  http://store.steampowered.com/app/733530/LOGis...   2018-01-04   \n",
       "120442  http://store.steampowered.com/app/610660/Russi...   2018-01-04   \n",
       "120443  http://store.steampowered.com/app/658870/EXIT_...   2017-09-02   \n",
       "120444  http://store.steampowered.com/app/681550/Maze_...          NaN   \n",
       "\n",
       "                                                     tags  \\\n",
       "120440              [Strategy, Indie, Casual, Simulation]   \n",
       "120441                          [Strategy, Indie, Casual]   \n",
       "120442                        [Indie, Simulation, Racing]   \n",
       "120443  [Indie, Casual, Puzzle, Singleplayer, Atmosphe...   \n",
       "120444  [Early Access, Adventure, Indie, Action, Simul...   \n",
       "\n",
       "                                              reviews_url  \\\n",
       "120440  http://steamcommunity.com/app/773640/reviews/?...   \n",
       "120441  http://steamcommunity.com/app/733530/reviews/?...   \n",
       "120442  http://steamcommunity.com/app/610660/reviews/?...   \n",
       "120443  http://steamcommunity.com/app/658870/reviews/?...   \n",
       "120444  http://steamcommunity.com/app/681550/reviews/?...   \n",
       "\n",
       "                                                    specs price early_access  \\\n",
       "120440                [Single-player, Steam Achievements]  1.99        False   \n",
       "120441  [Single-player, Steam Achievements, Steam Clou...  4.99        False   \n",
       "120442  [Single-player, Steam Achievements, Steam Trad...  1.99        False   \n",
       "120443   [Single-player, Steam Achievements, Steam Cloud]  4.99        False   \n",
       "120444  [Single-player, Stats, Steam Leaderboards, HTC...  4.99         True   \n",
       "\n",
       "            id                 developer  \n",
       "120440  773640        Nikita \"Ghost_RUS\"  \n",
       "120441  733530                    Sacada  \n",
       "120442  610660  Laush Dmitriy Sergeevich  \n",
       "120443  658870             xropi,stev3ns  \n",
       "120444  681550                       NaN  "
      ]
     },
     "execution_count": 4,
     "metadata": {},
     "output_type": "execute_result"
    }
   ],
   "source": [
    "# Se muestran los 5 últimos elementos del DataFrame resultante\n",
    "df_games.tail()\n"
   ]
  },
  {
   "cell_type": "markdown",
   "metadata": {},
   "source": [
    "Durante la exploración inicial del DataFrame **df_games**, se observó que las primeras 5 filas del conjunto de datos están vacías. Se procedió a verificar el número total de filas vacías para determinar el impacto en la integridad del dataset. Además, se notó que las columnas *genres*, *tags* y *specs* contienen datos estructurados en formato *JSON*, como por ejemplo, listas de géneros y etiquetas asociadas a cada juego. Esta observación sugiere la necesidad de realizar un procesamiento adicional para extraer y analizar adecuadamente la información contenida en estas columnas. Este hallazgo destaca la importancia de realizar una limpieza y preparación exhaustiva de los datos antes de llevar a cabo cualquier análisis o modelado posterior."
   ]
  },
  {
   "cell_type": "code",
   "execution_count": 5,
   "metadata": {},
   "outputs": [
    {
     "name": "stdout",
     "output_type": "stream",
     "text": [
      "\n",
      "Información general del DataFrame:\n",
      "<class 'pandas.core.frame.DataFrame'>\n",
      "RangeIndex: 120445 entries, 0 to 120444\n",
      "Data columns (total 13 columns):\n",
      " #   Column        Non-Null Count  Dtype \n",
      "---  ------        --------------  ----- \n",
      " 0   publisher     24083 non-null  object\n",
      " 1   genres        28852 non-null  object\n",
      " 2   app_name      32133 non-null  object\n",
      " 3   title         30085 non-null  object\n",
      " 4   url           32135 non-null  object\n",
      " 5   release_date  30068 non-null  object\n",
      " 6   tags          31972 non-null  object\n",
      " 7   reviews_url   32133 non-null  object\n",
      " 8   specs         31465 non-null  object\n",
      " 9   price         30758 non-null  object\n",
      " 10  early_access  32135 non-null  object\n",
      " 11  id            32133 non-null  object\n",
      " 12  developer     28836 non-null  object\n",
      "dtypes: object(13)\n",
      "memory usage: 11.9+ MB\n"
     ]
    }
   ],
   "source": [
    "# Obtener información general del DataFrame\n",
    "print(\"\\nInformación general del DataFrame:\")\n",
    "df_games.info()"
   ]
  },
  {
   "cell_type": "markdown",
   "metadata": {},
   "source": [
    "Se observa que **app_name**, **url**, **reviews_url** y **early_access** tienen todos los valores no nulos relacionados a algún **id**. Algunas columnas como **genres**, **tags** y **specs** son listas con formajo *JSON* que deberán ser desanidadas para trabajarlas. Se observa que todas las columnas son de tipo *object*, lo cual no es ideal para trabajar los datos; algunos cambios incluyen: **publisher**, **app_name**, **title**, **url**, **reviews_url** y **developer** a tipo *string*; **release_date** a tipo *date*; **price** y **id** a tipo *float64*; y **early_access** a tipo *boolean*."
   ]
  },
  {
   "cell_type": "markdown",
   "metadata": {},
   "source": [
    "## 4. Limpieza y Preprocesamiento"
   ]
  },
  {
   "cell_type": "markdown",
   "metadata": {},
   "source": [
    "Primero eliminamos todas las columnas en las que **todos** los valores estén **vacíos**:"
   ]
  },
  {
   "cell_type": "code",
   "execution_count": 6,
   "metadata": {},
   "outputs": [],
   "source": [
    "# Utiliza el método dropna() para eliminar las filas con todos los valores nulos\n",
    "df_games = df_games.dropna(how='all')"
   ]
  },
  {
   "cell_type": "markdown",
   "metadata": {},
   "source": [
    "Ahora nos aseguramos de que todos los valores vacíos se adapten al formato **NaN** en el Dataframe"
   ]
  },
  {
   "cell_type": "code",
   "execution_count": 7,
   "metadata": {},
   "outputs": [],
   "source": [
    "# Reemplazar valores vacíos, 'null' y 'None' con NaN en df_games\n",
    "df_games.replace(['', 'null', 'None'], np.nan, inplace=True)"
   ]
  },
  {
   "cell_type": "markdown",
   "metadata": {},
   "source": [
    "Luego se decidió renombrar algunas columnas para mayor practicidad al momento de trabajar con otros datasets"
   ]
  },
  {
   "cell_type": "code",
   "execution_count": 8,
   "metadata": {},
   "outputs": [],
   "source": [
    "# Renombrar las columnas dentro del DataFrame df_games\n",
    "df_games.rename(columns={'app_name': 'item_name', 'id': 'item_id'}, inplace=True)"
   ]
  },
  {
   "cell_type": "markdown",
   "metadata": {},
   "source": [
    "Se hizo notable analizar y contabilizar los siguientes casos entre las columnas \"publisher\" y \"developer\""
   ]
  },
  {
   "cell_type": "code",
   "execution_count": 9,
   "metadata": {},
   "outputs": [
    {
     "name": "stdout",
     "output_type": "stream",
     "text": [
      "Casos donde 'publisher' está vacío y 'developer' tiene un valor: 4827\n",
      "Casos donde 'publisher' tiene algún valor y 'developer' está vacío: 65\n",
      "Casos donde ambas columnas 'publisher' y 'developer' están vacías: 3234\n"
     ]
    }
   ],
   "source": [
    "# Casos donde \"publisher\" está vacío y \"developer\" tiene un valor\n",
    "casos_publisher_vacio_developer_valor = df_games[(df_games['publisher'].isnull()) & ~(df_games['developer'].isnull())].shape[0]\n",
    "\n",
    "# Casos donde \"publisher\" tiene algún valor y \"developer\" está vacío\n",
    "casos_publisher_valor_developer_vacio = df_games[~(df_games['publisher'].isnull()) & (df_games['developer'].isnull())].shape[0]\n",
    "\n",
    "# Casos donde ambas columnas \"publisher\" y \"developer\" están vacías\n",
    "casos_publisher_vacio_developer_vacio = df_games[(df_games['publisher'].isnull()) & (df_games['developer'].isnull())].shape[0]\n",
    "\n",
    "print(\"Casos donde 'publisher' está vacío y 'developer' tiene un valor:\", casos_publisher_vacio_developer_valor)\n",
    "print(\"Casos donde 'publisher' tiene algún valor y 'developer' está vacío:\", casos_publisher_valor_developer_vacio)\n",
    "print(\"Casos donde ambas columnas 'publisher' y 'developer' están vacías:\", casos_publisher_vacio_developer_vacio)\n"
   ]
  },
  {
   "cell_type": "markdown",
   "metadata": {},
   "source": [
    "Se observó que en el conjunto de datos hay casos donde la columna \"publisher\" tiene valores, mientras que la columna \"developer\" está vacía. Esta discrepancia puede deberse a la ausencia de datos o a la forma en que se registraron los juegos en la base de datos. Para abordar esta inconsistencia y asegurar una mayor coherencia en los datos, se optó por duplicar los valores de la columna \"publisher\" en la columna \"developer\" en los casos donde \"publisher\" tiene algún valor pero \"developer\" está vacía. Esta decisión se tomó para evitar la pérdida de información relevante y para simplificar el conjunto de datos, eliminando una columna redundante. Este enfoque busca mejorar la integridad y la utilidad de los datos para futuros análisis y aplicaciones. Es fundamental revisar la idoneidad de esta decisión en el contexto específico de los datos y las necesidades del proyecto."
   ]
  },
  {
   "cell_type": "code",
   "execution_count": 10,
   "metadata": {},
   "outputs": [],
   "source": [
    "# Filtrar los casos donde 'publisher' tiene algún valor y 'developer' está vacío\n",
    "casos_publisher_valor_developer_vacio_df = df_games[~(df_games['publisher'].isnull()) & (df_games['developer'].isnull())]\n",
    "\n",
    "# Duplicar los valores de 'publisher' en la columna 'developer'\n",
    "df_games.loc[casos_publisher_valor_developer_vacio_df.index, 'developer'] = casos_publisher_valor_developer_vacio_df['publisher']\n",
    "\n",
    "# Eliminar la columna 'publisher'\n",
    "#df_games.drop(columns=['publisher'], inplace=True)\n"
   ]
  },
  {
   "cell_type": "markdown",
   "metadata": {},
   "source": [
    "Ahora visualizamos los valores duplicados dentro del Dataframe df_games"
   ]
  },
  {
   "cell_type": "code",
   "execution_count": 11,
   "metadata": {},
   "outputs": [
    {
     "name": "stdout",
     "output_type": "stream",
     "text": [
      "La columna item_id contiene valores duplicados.\n",
      "Número de valores duplicados en la columna item_id: 2\n"
     ]
    }
   ],
   "source": [
    "# Utiliza value_counts() para contar la frecuencia de cada valor en la columna \"id\"\n",
    "conteo_valores = df_games['item_id'].value_counts()\n",
    "\n",
    "# Utiliza la función any() para verificar si algún valor tiene una frecuencia mayor que 1,\n",
    "# lo que indica que hay valores duplicados\n",
    "hay_duplicados = (conteo_valores > 1).any()\n",
    "\n",
    "# Imprime el resultado\n",
    "if hay_duplicados:\n",
    "    print(\"La columna item_id contiene valores duplicados.\")\n",
    "    # Obtén el recuento de valores duplicados\n",
    "    duplicados_count = conteo_valores[conteo_valores > 1].sum()\n",
    "    print(f\"Número de valores duplicados en la columna item_id: {duplicados_count}\")\n",
    "else:\n",
    "    print(\"Todos los valores en la columna item_id son únicos.\")\n"
   ]
  },
  {
   "cell_type": "markdown",
   "metadata": {},
   "source": [
    "Se observa que existen valores duplicados, al ser pocos procedemos a mostrarlos"
   ]
  },
  {
   "cell_type": "code",
   "execution_count": 12,
   "metadata": {},
   "outputs": [
    {
     "name": "stdout",
     "output_type": "stream",
     "text": [
      "Filas duplicadas en función de la columna 'item_id':\n"
     ]
    },
    {
     "data": {
      "text/html": [
       "<div>\n",
       "<style scoped>\n",
       "    .dataframe tbody tr th:only-of-type {\n",
       "        vertical-align: middle;\n",
       "    }\n",
       "\n",
       "    .dataframe tbody tr th {\n",
       "        vertical-align: top;\n",
       "    }\n",
       "\n",
       "    .dataframe thead th {\n",
       "        text-align: right;\n",
       "    }\n",
       "</style>\n",
       "<table border=\"1\" class=\"dataframe\">\n",
       "  <thead>\n",
       "    <tr style=\"text-align: right;\">\n",
       "      <th></th>\n",
       "      <th>publisher</th>\n",
       "      <th>genres</th>\n",
       "      <th>item_name</th>\n",
       "      <th>title</th>\n",
       "      <th>url</th>\n",
       "      <th>release_date</th>\n",
       "      <th>tags</th>\n",
       "      <th>reviews_url</th>\n",
       "      <th>specs</th>\n",
       "      <th>price</th>\n",
       "      <th>early_access</th>\n",
       "      <th>item_id</th>\n",
       "      <th>developer</th>\n",
       "    </tr>\n",
       "  </thead>\n",
       "  <tbody>\n",
       "    <tr>\n",
       "      <th>88384</th>\n",
       "      <td>NaN</td>\n",
       "      <td>NaN</td>\n",
       "      <td>NaN</td>\n",
       "      <td>NaN</td>\n",
       "      <td>http://store.steampowered.com/</td>\n",
       "      <td>NaN</td>\n",
       "      <td>NaN</td>\n",
       "      <td>NaN</td>\n",
       "      <td>NaN</td>\n",
       "      <td>19.99</td>\n",
       "      <td>False</td>\n",
       "      <td>NaN</td>\n",
       "      <td>NaN</td>\n",
       "    </tr>\n",
       "    <tr>\n",
       "      <th>102204</th>\n",
       "      <td>Bethesda Softworks</td>\n",
       "      <td>[Action]</td>\n",
       "      <td>Wolfenstein II: The New Colossus</td>\n",
       "      <td>Wolfenstein II: The New Colossus</td>\n",
       "      <td>http://store.steampowered.com/app/612880/</td>\n",
       "      <td>2017-10-26</td>\n",
       "      <td>[Action, FPS, Gore, Violent, Alternate History...</td>\n",
       "      <td>http://steamcommunity.com/app/612880/reviews/?...</td>\n",
       "      <td>[Single-player, Steam Achievements, Full contr...</td>\n",
       "      <td>59.99</td>\n",
       "      <td>False</td>\n",
       "      <td>612880</td>\n",
       "      <td>Machine Games</td>\n",
       "    </tr>\n",
       "    <tr>\n",
       "      <th>102883</th>\n",
       "      <td>Bethesda Softworks</td>\n",
       "      <td>[Action]</td>\n",
       "      <td>Wolfenstein II: The New Colossus</td>\n",
       "      <td>Wolfenstein II: The New Colossus</td>\n",
       "      <td>http://store.steampowered.com/app/612880/Wolfe...</td>\n",
       "      <td>2017-10-26</td>\n",
       "      <td>[Action, FPS, Gore, Violent, Alternate History...</td>\n",
       "      <td>http://steamcommunity.com/app/612880/reviews/?...</td>\n",
       "      <td>[Single-player, Steam Achievements, Full contr...</td>\n",
       "      <td>59.99</td>\n",
       "      <td>False</td>\n",
       "      <td>612880</td>\n",
       "      <td>Machine Games</td>\n",
       "    </tr>\n",
       "    <tr>\n",
       "      <th>119271</th>\n",
       "      <td>Warner Bros. Interactive Entertainment, Feral ...</td>\n",
       "      <td>[Action, Adventure]</td>\n",
       "      <td>Batman: Arkham City - Game of the Year Edition</td>\n",
       "      <td>Batman: Arkham City - Game of the Year Edition</td>\n",
       "      <td>http://store.steampowered.com/app/200260</td>\n",
       "      <td>2012-09-07</td>\n",
       "      <td>[Action, Open World, Batman, Adventure, Stealt...</td>\n",
       "      <td>NaN</td>\n",
       "      <td>[Single-player, Steam Achievements, Steam Trad...</td>\n",
       "      <td>19.99</td>\n",
       "      <td>False</td>\n",
       "      <td>NaN</td>\n",
       "      <td>Rocksteady Studios,Feral Interactive (Mac)</td>\n",
       "    </tr>\n",
       "  </tbody>\n",
       "</table>\n",
       "</div>"
      ],
      "text/plain": [
       "                                                publisher  \\\n",
       "88384                                                 NaN   \n",
       "102204                                 Bethesda Softworks   \n",
       "102883                                 Bethesda Softworks   \n",
       "119271  Warner Bros. Interactive Entertainment, Feral ...   \n",
       "\n",
       "                     genres                                       item_name  \\\n",
       "88384                   NaN                                             NaN   \n",
       "102204             [Action]                Wolfenstein II: The New Colossus   \n",
       "102883             [Action]                Wolfenstein II: The New Colossus   \n",
       "119271  [Action, Adventure]  Batman: Arkham City - Game of the Year Edition   \n",
       "\n",
       "                                                 title  \\\n",
       "88384                                              NaN   \n",
       "102204                Wolfenstein II: The New Colossus   \n",
       "102883                Wolfenstein II: The New Colossus   \n",
       "119271  Batman: Arkham City - Game of the Year Edition   \n",
       "\n",
       "                                                      url release_date  \\\n",
       "88384                      http://store.steampowered.com/          NaN   \n",
       "102204          http://store.steampowered.com/app/612880/   2017-10-26   \n",
       "102883  http://store.steampowered.com/app/612880/Wolfe...   2017-10-26   \n",
       "119271           http://store.steampowered.com/app/200260   2012-09-07   \n",
       "\n",
       "                                                     tags  \\\n",
       "88384                                                 NaN   \n",
       "102204  [Action, FPS, Gore, Violent, Alternate History...   \n",
       "102883  [Action, FPS, Gore, Violent, Alternate History...   \n",
       "119271  [Action, Open World, Batman, Adventure, Stealt...   \n",
       "\n",
       "                                              reviews_url  \\\n",
       "88384                                                 NaN   \n",
       "102204  http://steamcommunity.com/app/612880/reviews/?...   \n",
       "102883  http://steamcommunity.com/app/612880/reviews/?...   \n",
       "119271                                                NaN   \n",
       "\n",
       "                                                    specs  price  \\\n",
       "88384                                                 NaN  19.99   \n",
       "102204  [Single-player, Steam Achievements, Full contr...  59.99   \n",
       "102883  [Single-player, Steam Achievements, Full contr...  59.99   \n",
       "119271  [Single-player, Steam Achievements, Steam Trad...  19.99   \n",
       "\n",
       "        early_access item_id                                   developer  \n",
       "88384          False     NaN                                         NaN  \n",
       "102204         False  612880                               Machine Games  \n",
       "102883         False  612880                               Machine Games  \n",
       "119271         False     NaN  Rocksteady Studios,Feral Interactive (Mac)  "
      ]
     },
     "execution_count": 12,
     "metadata": {},
     "output_type": "execute_result"
    }
   ],
   "source": [
    "# Identificar filas duplicadas en función de la columna 'id'\n",
    "filas_duplicadas = df_games[df_games.duplicated(subset=['item_id'], keep=False)]\n",
    "\n",
    "# Imprimir las filas duplicadas\n",
    "print(\"Filas duplicadas en función de la columna 'item_id':\")\n",
    "filas_duplicadas\n"
   ]
  },
  {
   "cell_type": "markdown",
   "metadata": {},
   "source": [
    "Lo anterior nos devuelve 2 pares de filas con valores duplicados:\n",
    "* La primera fila tiene como \"item_id\" el valor de nulo (NaN), pero además cuenta con escasos datos.\n",
    "* La segunda fila y tercera filas hacen referencia al mismo juego pero con url distinta, un dato irrelevante.\n",
    "* La última fila también tiene un valor nulo en la columna \"item_id\" pero dentro de su url se encuentra el valor correspondiente que sería \"200260\"."
   ]
  },
  {
   "cell_type": "markdown",
   "metadata": {},
   "source": [
    "Se procederá a completar los valores faltantes en la columna 'item_id' de acuerdo con ciertos criterios establecidos. Si un juego tiene un título pero su 'item_id' es NaN, se asignará el valor 200260 a 'item_id'. Asimismo, se eliminarán las filas que carecen tanto de título como de 'item_id'. Además, se eliminará una fila duplicada con 'item_id' igual a 612880, conservando únicamente la primera aparición. Estos cambios contribuirán a la coherencia y la integridad de los datos, asegurando que el DataFrame esté preparado para análisis y aplicaciones posteriores."
   ]
  },
  {
   "cell_type": "markdown",
   "metadata": {},
   "source": [
    "Completar los valores faltantes en la columna 'item_id' y eliminar las filas que no tienen información relevante:"
   ]
  },
  {
   "cell_type": "code",
   "execution_count": 13,
   "metadata": {},
   "outputs": [],
   "source": [
    "# Completar los valores faltantes en la columna 'item_id' y eliminar las filas sin título\n",
    "df_games.loc[df_games['item_id'].isnull() & df_games['title'].notnull(), 'item_id'] = 200260\n",
    "\n",
    "# Eliminar las filas sin título y sin 'item_id'\n",
    "df_games.dropna(subset=['title', 'item_id'], how='all', inplace=True)\n"
   ]
  },
  {
   "cell_type": "markdown",
   "metadata": {},
   "source": [
    "Eliminar la fila duplicada con 'item_id' igual a 612880"
   ]
  },
  {
   "cell_type": "code",
   "execution_count": 14,
   "metadata": {},
   "outputs": [],
   "source": [
    "# Eliminar la tercera fila duplicada con 'item_id' igual a 612880\n",
    "df_games = df_games.drop_duplicates(subset=['item_id'], keep='first')\n"
   ]
  },
  {
   "cell_type": "markdown",
   "metadata": {},
   "source": [
    "Luego se trabajará con la columna \"genres\" y para ello requerimos una lista con los géneros únicos"
   ]
  },
  {
   "cell_type": "code",
   "execution_count": 15,
   "metadata": {},
   "outputs": [
    {
     "name": "stdout",
     "output_type": "stream",
     "text": [
      "Lista de géneros únicos, incluyendo valores nulos:\n",
      "['Action', 'Casual', 'Indie', 'Simulation', 'Strategy', 'Free to Play', 'RPG', 'Sports', 'Adventure', nan, 'Racing', 'Early Access', 'Massively Multiplayer', 'Animation &amp; Modeling', 'Video Production', 'Utilities', 'Web Publishing', 'Education', 'Software Training', 'Design &amp; Illustration', 'Audio Production', 'Photo Editing', 'Accounting']\n"
     ]
    }
   ],
   "source": [
    "# Obtener todos los géneros presentes en la columna 'genres', incluidos los valores nulos\n",
    "generos_totales = df_games['genres'].explode()\n",
    "\n",
    "# Obtener los géneros únicos, incluyendo los valores nulos\n",
    "generos_unicos = generos_totales.unique()\n",
    "\n",
    "# Convertir los géneros únicos en una lista y agregar el valor nulo\n",
    "generos_unicos_lista = generos_unicos.tolist()\n",
    "\n",
    "# Imprimir la lista de géneros únicos\n",
    "print(\"Lista de géneros únicos, incluyendo valores nulos:\")\n",
    "print(generos_unicos_lista)\n"
   ]
  },
  {
   "cell_type": "markdown",
   "metadata": {},
   "source": [
    "Después completamos la columna de \"genres\" con los valores de \"tags\" que pertenezcan a alguna de las categorías de nuestra lista anterior"
   ]
  },
  {
   "cell_type": "code",
   "execution_count": 16,
   "metadata": {},
   "outputs": [],
   "source": [
    "# Convertir la columna 'tags' a listas si es necesario\n",
    "df_games['tags'] = df_games['tags'].apply(lambda x: ast.literal_eval(x) if isinstance(x, str) else x)\n",
    "\n",
    "# Completar la columna 'genres' con la información de la columna 'tags'\n",
    "df_games['genres'] = df_games.apply(\n",
    "    lambda row: [tag for tag in row['tags'] if tag in generos_unicos_lista] if isinstance(row['tags'], list) else row['genres'],\n",
    "    axis=1\n",
    ")\n"
   ]
  },
  {
   "cell_type": "markdown",
   "metadata": {},
   "source": [
    "Ahora continuamos revisando si alguna fila contiene algún valor vacío para item_name (lo cuál sabemos de la existenci a de una gracias a info())"
   ]
  },
  {
   "cell_type": "code",
   "execution_count": 17,
   "metadata": {},
   "outputs": [
    {
     "data": {
      "text/html": [
       "<div>\n",
       "<style scoped>\n",
       "    .dataframe tbody tr th:only-of-type {\n",
       "        vertical-align: middle;\n",
       "    }\n",
       "\n",
       "    .dataframe tbody tr th {\n",
       "        vertical-align: top;\n",
       "    }\n",
       "\n",
       "    .dataframe thead th {\n",
       "        text-align: right;\n",
       "    }\n",
       "</style>\n",
       "<table border=\"1\" class=\"dataframe\">\n",
       "  <thead>\n",
       "    <tr style=\"text-align: right;\">\n",
       "      <th></th>\n",
       "      <th>publisher</th>\n",
       "      <th>genres</th>\n",
       "      <th>item_name</th>\n",
       "      <th>title</th>\n",
       "      <th>url</th>\n",
       "      <th>release_date</th>\n",
       "      <th>tags</th>\n",
       "      <th>reviews_url</th>\n",
       "      <th>specs</th>\n",
       "      <th>price</th>\n",
       "      <th>early_access</th>\n",
       "      <th>item_id</th>\n",
       "      <th>developer</th>\n",
       "    </tr>\n",
       "  </thead>\n",
       "  <tbody>\n",
       "    <tr>\n",
       "      <th>90890</th>\n",
       "      <td>NaN</td>\n",
       "      <td>[Action, Indie]</td>\n",
       "      <td>NaN</td>\n",
       "      <td>NaN</td>\n",
       "      <td>http://store.steampowered.com/app/317160/_/</td>\n",
       "      <td>2014-08-26</td>\n",
       "      <td>[Action, Indie]</td>\n",
       "      <td>http://steamcommunity.com/app/317160/reviews/?...</td>\n",
       "      <td>[Single-player, Game demo]</td>\n",
       "      <td>NaN</td>\n",
       "      <td>False</td>\n",
       "      <td>317160</td>\n",
       "      <td>NaN</td>\n",
       "    </tr>\n",
       "  </tbody>\n",
       "</table>\n",
       "</div>"
      ],
      "text/plain": [
       "      publisher           genres item_name title  \\\n",
       "90890       NaN  [Action, Indie]       NaN   NaN   \n",
       "\n",
       "                                               url release_date  \\\n",
       "90890  http://store.steampowered.com/app/317160/_/   2014-08-26   \n",
       "\n",
       "                  tags                                        reviews_url  \\\n",
       "90890  [Action, Indie]  http://steamcommunity.com/app/317160/reviews/?...   \n",
       "\n",
       "                            specs price  early_access item_id developer  \n",
       "90890  [Single-player, Game demo]   NaN         False  317160       NaN  "
      ]
     },
     "execution_count": 17,
     "metadata": {},
     "output_type": "execute_result"
    }
   ],
   "source": [
    "# Filtrar el DataFrame para obtener solo las filas donde el valor de \"item_name\" es nulo\n",
    "fila_vacia_item_name = df_games[df_games['item_name'].isnull()]\n",
    "\n",
    "# Imprimir la fila seleccionada\n",
    "fila_vacia_item_name\n"
   ]
  },
  {
   "cell_type": "markdown",
   "metadata": {},
   "source": [
    "Gracias al valor de la columna \"url\" y la información del dataset \"steam_games\" podemos determinar que se trata del juego 'Duet' y actualizaremos su valor en df_games"
   ]
  },
  {
   "cell_type": "code",
   "execution_count": 18,
   "metadata": {},
   "outputs": [
    {
     "data": {
      "text/html": [
       "<div>\n",
       "<style scoped>\n",
       "    .dataframe tbody tr th:only-of-type {\n",
       "        vertical-align: middle;\n",
       "    }\n",
       "\n",
       "    .dataframe tbody tr th {\n",
       "        vertical-align: top;\n",
       "    }\n",
       "\n",
       "    .dataframe thead th {\n",
       "        text-align: right;\n",
       "    }\n",
       "</style>\n",
       "<table border=\"1\" class=\"dataframe\">\n",
       "  <thead>\n",
       "    <tr style=\"text-align: right;\">\n",
       "      <th></th>\n",
       "      <th>publisher</th>\n",
       "      <th>genres</th>\n",
       "      <th>item_name</th>\n",
       "      <th>title</th>\n",
       "      <th>url</th>\n",
       "      <th>release_date</th>\n",
       "      <th>tags</th>\n",
       "      <th>reviews_url</th>\n",
       "      <th>specs</th>\n",
       "      <th>price</th>\n",
       "      <th>early_access</th>\n",
       "      <th>item_id</th>\n",
       "      <th>developer</th>\n",
       "    </tr>\n",
       "  </thead>\n",
       "  <tbody>\n",
       "    <tr>\n",
       "      <th>90890</th>\n",
       "      <td>NaN</td>\n",
       "      <td>[Action, Indie]</td>\n",
       "      <td>Duet</td>\n",
       "      <td>NaN</td>\n",
       "      <td>http://store.steampowered.com/app/317160/_/</td>\n",
       "      <td>2014-08-26</td>\n",
       "      <td>[Action, Indie]</td>\n",
       "      <td>http://steamcommunity.com/app/317160/reviews/?...</td>\n",
       "      <td>[Single-player, Game demo]</td>\n",
       "      <td>NaN</td>\n",
       "      <td>False</td>\n",
       "      <td>317160</td>\n",
       "      <td>NaN</td>\n",
       "    </tr>\n",
       "  </tbody>\n",
       "</table>\n",
       "</div>"
      ],
      "text/plain": [
       "      publisher           genres item_name title  \\\n",
       "90890       NaN  [Action, Indie]      Duet   NaN   \n",
       "\n",
       "                                               url release_date  \\\n",
       "90890  http://store.steampowered.com/app/317160/_/   2014-08-26   \n",
       "\n",
       "                  tags                                        reviews_url  \\\n",
       "90890  [Action, Indie]  http://steamcommunity.com/app/317160/reviews/?...   \n",
       "\n",
       "                            specs price  early_access item_id developer  \n",
       "90890  [Single-player, Game demo]   NaN         False  317160       NaN  "
      ]
     },
     "execution_count": 18,
     "metadata": {},
     "output_type": "execute_result"
    }
   ],
   "source": [
    "# Actualizar el valor de \"item_name\" en la fila seleccionada\n",
    "df_games.loc[fila_vacia_item_name.index, 'item_name'] = 'Duet'\n",
    "\n",
    "# Verificar que el valor se haya actualizado correctamente\n",
    "df_games.loc[fila_vacia_item_name.index]"
   ]
  },
  {
   "cell_type": "markdown",
   "metadata": {},
   "source": [
    "También tratremos los valores de \"release_date\" tratando de convertirlos a tipo datetime y creando una columna \"year\" que extraiga el año de \"release_date\""
   ]
  },
  {
   "cell_type": "code",
   "execution_count": 19,
   "metadata": {},
   "outputs": [],
   "source": [
    "# Convertir la columna 'release_date' a formato de fecha\n",
    "df_games['release_date'] = pd.to_datetime(df_games['release_date'], errors='coerce')\n",
    "\n",
    "# Extraer el año y crear la columna 'year'\n",
    "df_games['year'] = df_games['release_date'].dt.year.astype('Int64')\n"
   ]
  },
  {
   "cell_type": "markdown",
   "metadata": {},
   "source": [
    "Continuamos rellenando los valores faltantes de \"year\" con la mediana"
   ]
  },
  {
   "cell_type": "code",
   "execution_count": 20,
   "metadata": {},
   "outputs": [],
   "source": [
    "# Calcula la mediana de la columna 'year'\n",
    "mediana_year = df_games['year'].median()\n",
    "\n",
    "# Rellena los valores faltantes en 'year' con la mediana\n",
    "df_games['year'].fillna(mediana_year, inplace=True)\n"
   ]
  },
  {
   "cell_type": "code",
   "execution_count": 21,
   "metadata": {},
   "outputs": [
    {
     "name": "stdout",
     "output_type": "stream",
     "text": [
      "<class 'pandas.core.frame.DataFrame'>\n",
      "Index: 32133 entries, 88310 to 120444\n",
      "Data columns (total 14 columns):\n",
      " #   Column        Non-Null Count  Dtype         \n",
      "---  ------        --------------  -----         \n",
      " 0   publisher     24073 non-null  object        \n",
      " 1   genres        31995 non-null  object        \n",
      " 2   item_name     32133 non-null  object        \n",
      " 3   title         30084 non-null  object        \n",
      " 4   url           32133 non-null  object        \n",
      " 5   release_date  29782 non-null  datetime64[ns]\n",
      " 6   tags          31971 non-null  object        \n",
      " 7   reviews_url   32132 non-null  object        \n",
      " 8   specs         31464 non-null  object        \n",
      " 9   price         30756 non-null  object        \n",
      " 10  early_access  32133 non-null  bool          \n",
      " 11  item_id       32133 non-null  object        \n",
      " 12  developer     28900 non-null  object        \n",
      " 13  year          32133 non-null  Int64         \n",
      "dtypes: Int64(1), bool(1), datetime64[ns](1), object(11)\n",
      "memory usage: 4.5+ MB\n"
     ]
    }
   ],
   "source": [
    "df_games.info()"
   ]
  },
  {
   "cell_type": "markdown",
   "metadata": {},
   "source": [
    "Ahora trataremos la columna \"price\", para ello debemos visualizar primero todos sus valores únicos"
   ]
  },
  {
   "cell_type": "code",
   "execution_count": 22,
   "metadata": {},
   "outputs": [
    {
     "data": {
      "text/plain": [
       "<IntegerArray>\n",
       "[2018, 2017, 2016, 1997, 1998, 2006, 2005, 2003, 2007, 2002, 2000, 1995, 1996,\n",
       " 1994, 2001, 1993, 2004, 1999, 2008, 2009, 1992, 1989, 2010, 2011, 2013, 2012,\n",
       " 2014, 1983, 1984, 2015, 1990, 1988, 1991, 1985, 1982, 1987, 1981, 1986, 2021,\n",
       " 2019, 1975, 1970, 1980]\n",
       "Length: 43, dtype: Int64"
      ]
     },
     "execution_count": 22,
     "metadata": {},
     "output_type": "execute_result"
    }
   ],
   "source": [
    "unique_prices = df_games['year'].unique()\n",
    "unique_prices\n"
   ]
  },
  {
   "cell_type": "markdown",
   "metadata": {},
   "source": [
    "Se realizaron transformaciones en la columna \"price\" del conjunto de datos. Se identificaron ciertos valores como \"Free To Play\", \"Free Demo\", entre otros, que no representan un costo monetario y, por lo tanto, se convirtieron en \"0\" para reflejar su carácter gratuito. Asimismo, se ajustaron valores como \"Starting at $499.00\" y \"Starting at $449.00\" a \"499.0\" y \"449.0\" respectivamente para reflejar su precio base. Además, aquellos elementos marcados como \"Third-party\" fueron eliminados y convertidos a valores nulos (NaN),"
   ]
  },
  {
   "cell_type": "code",
   "execution_count": 23,
   "metadata": {},
   "outputs": [],
   "source": [
    "# Reemplazar los valores específicos con \"0\"\n",
    "specific_values = [\"Free To Play\", \"Free to Play\", \"Free\", \"Free Demo\", \"Play for Free!\", \"Install Now\",\n",
    "                   \"Play WARMACHINE: Tactics Demo\", \"Free Mod\", \"Install Theme\", \"Play Now\", \"Free HITMAN™ Holiday Pack\",\n",
    "                   \"Play the Demo\", \"Free to Try\", \"Free Movie\", \"Free to Use\"]\n",
    "df_games['price'].replace(specific_values, \"0\", inplace=True)\n",
    "\n",
    "# Reemplazar \"Starting at $499.00\" con \"499.0\"\n",
    "df_games['price'].replace(\"Starting at $499.00\", \"499.0\", inplace=True)\n",
    "\n",
    "# Reemplazar \"Starting at $449.00\" con \"449.0\"\n",
    "df_games['price'].replace(\"Starting at $449.00\", \"449.0\", inplace=True)\n",
    "\n",
    "# Reemplazar \"Third-party\" con NaN\n",
    "df_games['price'].replace(\"Third-party\", np.nan, inplace=True)\n"
   ]
  },
  {
   "cell_type": "markdown",
   "metadata": {},
   "source": [
    "Este código transforma la columna 'price' del conjunto de datos de juegos, primero convirtiéndola a tipo numérico para facilitar su manipulación y cálculos posteriores. Luego, rellena los valores faltantes (NaN) con la mediana de los precios existentes, asegurando que los datos estén completos y sean representativos para análisis futuros."
   ]
  },
  {
   "cell_type": "code",
   "execution_count": 24,
   "metadata": {},
   "outputs": [],
   "source": [
    "# Convertir la columna a tipo numérico (dejando los NaN)\n",
    "df_games['price'] = pd.to_numeric(df_games['price'], errors='coerce')\n",
    "\n",
    "# Rellenar los valores NaN con la mediana\n",
    "price_median = df_games['price'].median()\n",
    "df_games['price'].fillna(price_median, inplace=True)\n"
   ]
  },
  {
   "cell_type": "markdown",
   "metadata": {},
   "source": [
    "Finalmente eliminamos algunas columnas con información innecesaria para el proyecto"
   ]
  },
  {
   "cell_type": "code",
   "execution_count": 25,
   "metadata": {},
   "outputs": [],
   "source": [
    "columnas_eliminar = ['publisher', 'title', 'url', 'release_date', 'reviews_url', 'early_access']\n",
    "df_games.drop(columns=columnas_eliminar, inplace=True)\n"
   ]
  },
  {
   "cell_type": "code",
   "execution_count": 26,
   "metadata": {},
   "outputs": [],
   "source": [
    "# Especificar la ruta del archivo de destino\n",
    "ruta_destino = \"../Data/Processed/Clean_data/steam_games_cleaned.csv\"\n",
    "\n",
    "# Exportar el DataFrame como un archivo CSV\n",
    "df_games.to_csv(ruta_destino, index=False)\n"
   ]
  },
  {
   "cell_type": "markdown",
   "metadata": {},
   "source": [
    "## 5. Guardar del conjunto de datos resultante"
   ]
  },
  {
   "cell_type": "code",
   "execution_count": 27,
   "metadata": {},
   "outputs": [],
   "source": [
    "# Especifica la ruta del archivo de destino\n",
    "ruta_destino = \"../Data/Processed/Clean_data/steam_games_cleaned.csv\"\n",
    "\n",
    "# Exporta el DataFrame como un archivo CSV\n",
    "df_games.to_csv(ruta_destino, index=False)\n"
   ]
  }
 ],
 "metadata": {
  "kernelspec": {
   "display_name": ".venv",
   "language": "python",
   "name": "python3"
  },
  "language_info": {
   "codemirror_mode": {
    "name": "ipython",
    "version": 3
   },
   "file_extension": ".py",
   "mimetype": "text/x-python",
   "name": "python",
   "nbconvert_exporter": "python",
   "pygments_lexer": "ipython3",
   "version": "3.11.4"
  }
 },
 "nbformat": 4,
 "nbformat_minor": 2
}
